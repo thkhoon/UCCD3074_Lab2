{
 "cells": [
  {
   "cell_type": "markdown",
   "metadata": {
    "id": "dRtAtHEunTrR"
   },
   "source": [
    "# Lab2A - Introduction to PyTorch\n",
    "\n",
    "Tensor (`torch.tensor`) is the data structure used in PyTorch to build a deep learning system. Tensors are similar to NumPy's `ndarrays`, with the addition being that Tensors can also be used on a GPU to accelerate computing.\n",
    "\n",
    "### Objectives:\n",
    "In this lab, you learn how to \n",
    "* Create tensors in PyTorch \n",
    "* Perform mathematical operation on tensors\n",
    "* Convert between PyTorch tensor and Numpy array\n",
    "* Reshape a PyTorch tensor\n",
    "* Transfer tensor to and from GPU \n",
    "\n",
    "#### Table of Content:\n",
    "1. [Creating tensors](#1.-Creating-tensors)\n",
    "2. [Tensor operations](#2.-Tensor-Operations)\n",
    "3. [Indexing](#3.-Indexing)\n",
    "4. [Reshaping tensors](#4.-Reshaping-Tensors)\n",
    "5. [CUDA Tensors](#6.-CUDA-Tensors)\n",
    "6. [Exercise](#Exercise)\n",
    "\n",
    "#### Reference:\n",
    "\n",
    "* [PyTorch Official Tutorial: What is PyTorch](https://pytorch.org/tutorials/beginner/blitz/tensor_tutorial.html#sphx-glr-beginner-blitz-tensor-tutorial-py)\n",
    "---"
   ]
  },
  {
   "cell_type": "markdown",
   "metadata": {
    "id": "3CjXa2o11CxT"
   },
   "source": [
    "## 1. Creating tensors"
   ]
  },
  {
   "cell_type": "code",
   "execution_count": null,
   "metadata": {
    "id": "4saDB26-wBVO"
   },
   "outputs": [],
   "source": [
    "..."
   ]
  },
  {
   "cell_type": "markdown",
   "metadata": {
    "id": "uFSzONOpwDDK"
   },
   "source": [
    "Construct a 5x3 matrix, uninitialized"
   ]
  },
  {
   "cell_type": "code",
   "execution_count": null,
   "metadata": {
    "id": "w-1Suw7VwMEc"
   },
   "outputs": [],
   "source": [
    "...\n",
    "print(x)"
   ]
  },
  {
   "cell_type": "markdown",
   "metadata": {
    "id": "MFxp3VZq0rU0"
   },
   "source": [
    "Construct a tensor filled with random numbers from a uniform distribution on the interval `[0, 1)`."
   ]
  },
  {
   "cell_type": "code",
   "execution_count": null,
   "metadata": {
    "id": "U32cZXdVwORX"
   },
   "outputs": [],
   "source": [
    "...\n",
    "print(x)"
   ]
  },
  {
   "cell_type": "markdown",
   "metadata": {
    "id": "WPQedLngnTrc"
   },
   "source": [
    "Construct a tensor filled with random numbers from a normal distribution with mean 0 and variance 1."
   ]
  },
  {
   "cell_type": "code",
   "execution_count": null,
   "metadata": {
    "id": "YN48W6esnTrd"
   },
   "outputs": [],
   "source": [
    "...\n",
    "print(x)"
   ]
  },
  {
   "cell_type": "markdown",
   "metadata": {
    "id": "0Ltr7Gatzj5-"
   },
   "source": [
    "Construct a matrix filled with zeros and of dtype long"
   ]
  },
  {
   "cell_type": "code",
   "execution_count": null,
   "metadata": {
    "id": "QKO1yrBW0ypC"
   },
   "outputs": [],
   "source": [
    "...\n",
    "print(x)"
   ]
  },
  {
   "cell_type": "code",
   "execution_count": null,
   "metadata": {
    "id": "7H-dvM4YnTrf"
   },
   "outputs": [],
   "source": [
    "...\n",
    "print(x)"
   ]
  },
  {
   "cell_type": "markdown",
   "metadata": {
    "id": "yYJpmeJr1ebW"
   },
   "source": [
    "---\n",
    "## 2. Tensor Operations\n",
    "\n",
    "#### Size of tensors"
   ]
  },
  {
   "cell_type": "code",
   "execution_count": null,
   "metadata": {
    "id": "rABVEwzO1n4v"
   },
   "outputs": [],
   "source": [
    "x = torch.rand(5, 3)\n",
    "print(x)\n",
    "..."
   ]
  },
  {
   "cell_type": "markdown",
   "metadata": {
    "id": "aQcetj8D1s6O"
   },
   "source": [
    "#### Addition\n",
    "\n",
    "There are multiple syntaxes for operations.\n",
    "\n",
    "*Addition: syntax 1*"
   ]
  },
  {
   "cell_type": "code",
   "execution_count": null,
   "metadata": {
    "id": "-pjXypn31-2d"
   },
   "outputs": [],
   "source": [
    "x = torch.rand(3, 2)\n",
    "print('x:\\n', x)\n",
    "y = torch.rand(3, 2)\n",
    "print('y:\\n', y)\n",
    "\n",
    "...\n",
    "print('x+y:\\n', z)"
   ]
  },
  {
   "cell_type": "markdown",
   "metadata": {
    "id": "EgYJxF8L2DQX"
   },
   "source": [
    "*Addition: syntax 2*"
   ]
  },
  {
   "cell_type": "code",
   "execution_count": null,
   "metadata": {
    "id": "A7Bhvh-u2QXn"
   },
   "outputs": [],
   "source": [
    "...\n",
    "print('x+y:\\n', z)"
   ]
  },
  {
   "cell_type": "markdown",
   "metadata": {
    "id": "uhNwE1PL2cJW"
   },
   "source": [
    "*Addition: syntax 3 (in-place)*\n",
    "    \n",
    "- Any operation that mutates a tensor in-place is post-fixed with an `_`. For example: `x.copy_(y)`, `x.t_()`, will change `x`."
   ]
  },
  {
   "cell_type": "code",
   "execution_count": null,
   "metadata": {
    "id": "ZRcCXh-nAlXH"
   },
   "outputs": [],
   "source": [
    "print('x\\n', x)\n",
    "print('y\\n', y)"
   ]
  },
  {
   "cell_type": "code",
   "execution_count": null,
   "metadata": {
    "id": "a0MP6Puj2iBM"
   },
   "outputs": [],
   "source": [
    "...\n",
    "print(y)"
   ]
  },
  {
   "cell_type": "markdown",
   "metadata": {
    "id": "WlDe01vknTrn"
   },
   "source": [
    "#### Multiplication\n",
    "\n",
    "Different from numpy which uses mainly `dot` to perform different types of matrix multiplication, PyTorch uses different commands for vector-vector multiplication (`dot`), matrix-vector multiplication (`mv`) and matrix-matrix multiplication (`mm`)\n",
    "\n",
    "**`dot`**"
   ]
  },
  {
   "cell_type": "code",
   "execution_count": null,
   "metadata": {
    "id": "hK9s7ihXnTro"
   },
   "outputs": [],
   "source": [
    "a = torch.Tensor([4, 2])\n",
    "b = torch.Tensor([3, 1])\n",
    "...\n",
    "\n",
    "print(r)"
   ]
  },
  {
   "cell_type": "markdown",
   "metadata": {
    "id": "pYQxlIHsnTro"
   },
   "source": [
    "**`mv`**"
   ]
  },
  {
   "cell_type": "code",
   "execution_count": null,
   "metadata": {
    "id": "GtADKcf_nTro"
   },
   "outputs": [],
   "source": [
    "mat = torch.randn(2, 4)\n",
    "vec = torch.randn(4)\n",
    "\n",
    "...\n",
    "print(r)"
   ]
  },
  {
   "cell_type": "markdown",
   "metadata": {
    "id": "QFy5JU7tnTrp"
   },
   "source": [
    "**`mm`**"
   ]
  },
  {
   "cell_type": "code",
   "execution_count": null,
   "metadata": {
    "id": "c6HjfEwnnTrp"
   },
   "outputs": [],
   "source": [
    "mat1 = torch.randn(2, 3)\n",
    "mat2 = torch.randn(3, 4)\n",
    "\n",
    "...\n",
    "print(r)"
   ]
  },
  {
   "cell_type": "markdown",
   "metadata": {
    "id": "AD6prKfJ2wZe"
   },
   "source": [
    "## 3. Indexing\n",
    "\n",
    "You can use standard Numpy-like indexing with Torch"
   ]
  },
  {
   "cell_type": "code",
   "execution_count": null,
   "metadata": {
    "id": "5e88pnWi27lR"
   },
   "outputs": [],
   "source": [
    "x = torch.randint(0, 100, (5,10))\n",
    "print(x)"
   ]
  },
  {
   "cell_type": "code",
   "execution_count": null,
   "metadata": {
    "id": "_0YTk1b420Qs"
   },
   "outputs": [],
   "source": [
    "# accessing column 1\n",
    "..."
   ]
  },
  {
   "cell_type": "code",
   "execution_count": null,
   "metadata": {
    "id": "glodg-qU3nlY"
   },
   "outputs": [],
   "source": [
    "# accessing columns 2 and 3\n",
    "..."
   ]
  },
  {
   "cell_type": "code",
   "execution_count": null,
   "metadata": {
    "id": "Fp9vFlxP3Y_j"
   },
   "outputs": [],
   "source": [
    "# accessing row 1\n",
    "..."
   ]
  },
  {
   "cell_type": "code",
   "execution_count": null,
   "metadata": {
    "id": "xVCHa1dI3sJ3"
   },
   "outputs": [],
   "source": [
    "# accessing rows 2 and 3\n",
    "..."
   ]
  },
  {
   "cell_type": "markdown",
   "metadata": {
    "id": "0U1e8gcVnTrs"
   },
   "source": [
    "## 4. Reshaping Tensors"
   ]
  },
  {
   "cell_type": "markdown",
   "metadata": {
    "id": "ys00WHsknTrs"
   },
   "source": [
    "**`Tensor.reshape`**\n",
    "\n",
    "Returns a tensor with the same data and number of elements as self but with the specified shape."
   ]
  },
  {
   "cell_type": "code",
   "execution_count": null,
   "metadata": {
    "id": "kLc6itLRnTrs"
   },
   "outputs": [],
   "source": [
    "x = torch.randint(0, 100, (2,4))\n",
    "print('x:\\n', x)"
   ]
  },
  {
   "cell_type": "code",
   "execution_count": null,
   "metadata": {
    "id": "3CFy2mCFBRBH"
   },
   "outputs": [],
   "source": [
    "# Reshape from (2, 4) to (8, 1)\n",
    "..."
   ]
  },
  {
   "cell_type": "code",
   "execution_count": null,
   "metadata": {
    "id": "7rJx3Z4gBRMY"
   },
   "outputs": [],
   "source": [
    "# Reshape from (2, 4) to (4, 2)\n",
    "..."
   ]
  },
  {
   "cell_type": "markdown",
   "metadata": {
    "id": "dMnWXh6dnTrt"
   },
   "source": [
    "This method returns a **view** if shape is compatible with the current shape. Else, it may return a **copy**. This allows it to work with both [contiguous and non-contigous](https://stackoverflow.com/questions/26998223/what-is-the-difference-between-contiguous-and-non-contiguous-arrays/26999092#26999092) data.\n",
    "\n",
    "![image.png](data:image/png;base64,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)\n",
    "\n",
    "In the examples above, we create a view since the shapes of reshaped tensors `y` and `z` are compatible with the original tensor `x`. Note that after a change is performed on `x`, then the changes will occur to both `y` and `z`.\n",
    "\n",
    "The following code confirms that `y` and `z` are indeed **views** of `x`. Any changes to `x` will be observed in `y` and `z` as well."
   ]
  },
  {
   "cell_type": "code",
   "execution_count": null,
   "metadata": {
    "id": "56WVxXL9nTrt"
   },
   "outputs": [],
   "source": [
    "x[0,0] = -3\n",
    "\n",
    "print('x:\\n', x)\n",
    "print('y:\\n', y)\n",
    "print('z:\\n', z)"
   ]
  },
  {
   "cell_type": "markdown",
   "metadata": {
    "id": "8s-sYCXDnTru"
   },
   "source": [
    "**`Tensor.view`**\n",
    "\n",
    "`Tensor.view` always returns a **view** of the original tensor with the new shape, i.e., it will share the underlying data with the original tensor. "
   ]
  },
  {
   "cell_type": "code",
   "execution_count": null,
   "metadata": {
    "id": "Xl2Mw9SYnTru"
   },
   "outputs": [],
   "source": [
    "x = torch.randint(0, 100, (2,4))\n",
    "print('x:\\n', x)"
   ]
  },
  {
   "cell_type": "code",
   "execution_count": null,
   "metadata": {
    "id": "s5tTeIOuCDMT"
   },
   "outputs": [],
   "source": [
    "# Convert from (2, 4) to (8, 1)\n",
    "...\n",
    "print('y:\\n', y)"
   ]
  },
  {
   "cell_type": "code",
   "execution_count": null,
   "metadata": {
    "id": "LU6d0k_3CEmc"
   },
   "outputs": [],
   "source": [
    "# Convert from (2, 4) to (4, 2)\n",
    "...\n",
    "print('z:\\n', z)"
   ]
  },
  {
   "cell_type": "markdown",
   "metadata": {
    "id": "zx7moP3unTru"
   },
   "source": [
    "Similar to the numpy's `reshape` function, pytorch's `view` returns a reference of the original matrix albeit in a different shape"
   ]
  },
  {
   "cell_type": "markdown",
   "metadata": {
    "id": "rOnzxNfF4MQH"
   },
   "source": [
    "## 5. CUDA Tensors\n",
    "\n",
    "#### Creating tensor in the GPU"
   ]
  },
  {
   "cell_type": "code",
   "execution_count": null,
   "metadata": {
    "id": "mtksPjuE4TQ8"
   },
   "outputs": [],
   "source": [
    "if ... :\n",
    "    gpu = ...     # define a cuda device\n",
    "    x = ...          # Create the tensor in the GPU\n",
    "    print(x)"
   ]
  },
  {
   "cell_type": "markdown",
   "metadata": {
    "id": "8aBB_zwp5JyD"
   },
   "source": [
    "#### Creating tensor in the cpu explicitly (default )"
   ]
  },
  {
   "cell_type": "code",
   "execution_count": null,
   "metadata": {
    "id": "RUYOCDfA48uH"
   },
   "outputs": [],
   "source": [
    "cpu = \n",
    "x = ...     # create a tensor in the CPU\n",
    "print(x)"
   ]
  },
  {
   "cell_type": "markdown",
   "metadata": {
    "id": "JUCz013O5EyI"
   },
   "source": [
    "#### Transfering tensor from cpu to gpu\n",
    "\n",
    "Transfer using the `.cuda()` command."
   ]
  },
  {
   "cell_type": "code",
   "execution_count": null,
   "metadata": {
    "id": "Jw53E6xd5SsE"
   },
   "outputs": [],
   "source": [
    "x = torch.rand(3, 2, device = \"cpu\")  # create tensor in cpu. The device argument also accepts a string besides a device object\n",
    "print(x)\n",
    "\n",
    "...\n",
    "print(x)"
   ]
  },
  {
   "cell_type": "markdown",
   "metadata": {
    "id": "JhI4yqJIEV87"
   },
   "source": [
    "Transfer using the `.to()` command"
   ]
  },
  {
   "cell_type": "code",
   "execution_count": null,
   "metadata": {
    "id": "UASg2dMqyY-E"
   },
   "outputs": [],
   "source": [
    "x = torch.rand(3, 2) # create tensor in the CPU (default)\n",
    "print(x)\n",
    " \n",
    "...\n",
    "print(x)"
   ]
  },
  {
   "cell_type": "markdown",
   "metadata": {
    "id": "v4WDnVb2yoTP"
   },
   "source": [
    "#### Transfering tensor from gpu to cpu\n",
    "\n",
    "Transfer using the `.cpu()` command."
   ]
  },
  {
   "cell_type": "code",
   "execution_count": null,
   "metadata": {
    "id": "6KF0NA2N5ZJ4"
   },
   "outputs": [],
   "source": [
    "x = torch.rand(3, 2, device = 'cuda')  # create tensor in gpu. The device argument also accepts a string besides a device object\n",
    "print(x)\n",
    "\n",
    "...\n",
    "print(x)"
   ]
  },
  {
   "cell_type": "markdown",
   "metadata": {
    "id": "7eLaD7ytE8qN"
   },
   "source": [
    "Transfer using the `.to()` command."
   ]
  },
  {
   "cell_type": "code",
   "execution_count": null,
   "metadata": {
    "id": "74o_JoxFx6SX"
   },
   "outputs": [],
   "source": [
    "x = torch.rand(3, 2, device = 'cuda')  # create tensor in the GPU\n",
    "print(x)\n",
    "\n",
    "...\n",
    "print(x)"
   ]
  },
  {
   "cell_type": "markdown",
   "metadata": {
    "id": "YhFxOnwYnTr2"
   },
   "source": [
    "---\n",
    "## Exercise"
   ]
  },
  {
   "cell_type": "markdown",
   "metadata": {
    "id": "-weBsLPlnTr3"
   },
   "source": [
    "**Question 1.** The following code is used to preprocess a batch data for Logistic Regression. \n",
    "\n",
    "1.1  Create a random tensor `X_ori` using the normal distribution of shape `(4, 16, 16, 3)`. The tensor represent `m=4` color image samples, each having a resolution of `(16, 16)` \n",
    "   Expected ans:\n",
    "    ```\n",
    "    Shape of X_ori: torch.Size([4, 16, 16, 3])\n",
    "    ```\n"
   ]
  },
  {
   "cell_type": "code",
   "execution_count": null,
   "metadata": {
    "id": "Qe1O2KL_nTr3"
   },
   "outputs": [],
   "source": [
    "...\n",
    "print('Shape of X_ori:', X_ori.shape)"
   ]
  },
  {
   "cell_type": "markdown",
   "metadata": {
    "id": "fkV1_UbLFhpv"
   },
   "source": [
    "1.2  Reshape `X_ori` into a shape of `(4, 16*16*3)`. Then transpose the result to get a tensor of shape `(768, 4)` where each column represents a sample. Save the result as `X`.\n",
    "\n",
    "Expected ans:\n",
    "```\n",
    "Shape of X: torch.Size([768, 4])\n",
    "```"
   ]
  },
  {
   "cell_type": "code",
   "execution_count": null,
   "metadata": {
    "id": "lekdsBTlxzES"
   },
   "outputs": [],
   "source": [
    "...\n",
    "print('Shape of X:', X.shape)"
   ]
  },
  {
   "cell_type": "markdown",
   "metadata": {
    "id": "VFzQ7Mp5FnhJ"
   },
   "source": [
    "1.3  Check if a GPU is available in the system. If yes, transfer the tensor `X` to the GPU. Then, verify if X has really been loaded into the GPU (`X.is_cuda`) and print out the device ID of the GPU (`X.get_device()`).\n",
    "\n",
    "Expected ans:\n",
    "```\n",
    "X is loaded to GPU: 0\n",
    "```"
   ]
  },
  {
   "cell_type": "code",
   "execution_count": null,
   "metadata": {
    "id": "mTHkXCbqovFd"
   },
   "outputs": [],
   "source": [
    "if ...gpu is available...\n",
    "   ... load x to gpu ...\n",
    "\n",
    "if ...x is successfully loaded into GPU:\n",
    "    print('X is loaded to GPU:', ... get the GPU ID...)\n",
    "else:\n",
    "    print('X is loaded to CPU')"
   ]
  },
  {
   "cell_type": "markdown",
   "metadata": {
    "id": "Mf2pGJJw1lkw"
   },
   "source": [
    "---\n",
    "**Question 2.** \n",
    "\n",
    "2.1 Create the tensor `A`. Ensure that the datatype for `A` is `float32`:\n",
    "```\n",
    "    A = [[3, 2, 4, 6],\n",
    "         [2, 4, 2, 2],\n",
    "         [5, 1, 2, 1]]\n",
    "```"
   ]
  },
  {
   "cell_type": "code",
   "execution_count": null,
   "metadata": {
    "id": "xcIMwBMt4kCH"
   },
   "outputs": [],
   "source": [
    "...\n",
    "print(A)"
   ]
  },
  {
   "cell_type": "markdown",
   "metadata": {
    "id": "dMCZqVp11obS"
   },
   "source": [
    "2.2 Extract the 2nd row from A. (Expected ans: `tensor([2., 4., 2., 2.])`)"
   ]
  },
  {
   "cell_type": "code",
   "execution_count": null,
   "metadata": {
    "id": "b7SbR_0Roprt"
   },
   "outputs": [],
   "source": [
    "print(...)"
   ]
  },
  {
   "cell_type": "markdown",
   "metadata": {
    "id": "NwuqQSCx12bn"
   },
   "source": [
    "2.3 Extract the 3rd column from A. (Expected ans: `tensor([4., 2., 2.])`)"
   ]
  },
  {
   "cell_type": "code",
   "execution_count": null,
   "metadata": {
    "id": "vAFJSXvUys52"
   },
   "outputs": [],
   "source": [
    "print(...)"
   ]
  },
  {
   "cell_type": "markdown",
   "metadata": {
    "id": "nKlhVhy71-1C"
   },
   "source": [
    "2.4 Write the code to extract the following sub-block (rows 1 to 2 and columns 1 to 2) from A.\n",
    "\n",
    "```\n",
    "tensor([[4., 2.],\n",
    "        [1., 2.]])\n",
    "```"
   ]
  },
  {
   "cell_type": "code",
   "execution_count": null,
   "metadata": {
    "id": "QfTT1U-3y1pt"
   },
   "outputs": [],
   "source": [
    "print(...)"
   ]
  },
  {
   "cell_type": "markdown",
   "metadata": {
    "id": "Q0tMIXHM2Y1i"
   },
   "source": [
    "2.5 Compute the mean of all columns.\n",
    "\n",
    "Expected ans:\n",
    "```\n",
    "tensor([3.7500, 2.5000, 2.2500], dtype=torch.float64)\n",
    "```"
   ]
  },
  {
   "cell_type": "code",
   "execution_count": null,
   "metadata": {
    "id": "zyaVeQ70-dD7"
   },
   "outputs": [],
   "source": [
    "print(...)"
   ]
  },
  {
   "cell_type": "markdown",
   "metadata": {
    "id": "ifXWnxhY2lsn"
   },
   "source": [
    "2.6 Repeat question 2.5, but this time retain the original dimensions such that the output has a shape of (3,1) \n",
    "\n",
    "Expected ans:\n",
    "```\n",
    "tensor([[3.7500],\n",
    "        [2.5000],\n",
    "        [2.2500]], dtype=torch.float64)\n",
    "```"
   ]
  },
  {
   "cell_type": "code",
   "execution_count": null,
   "metadata": {
    "id": "EQx5f6591EEv"
   },
   "outputs": [],
   "source": [
    "print(...)"
   ]
  },
  {
   "cell_type": "markdown",
   "metadata": {
    "id": "YhnfdJ5Z1H_L"
   },
   "source": [
    "<center> --- END OF LAB02A --- </center>"
   ]
  }
 ],
 "metadata": {
  "accelerator": "GPU",
  "colab": {
   "collapsed_sections": [],
   "name": "Lab02A - Tensors in PyTorch.ipynb",
   "provenance": [
    {
     "file_id": "10MctCRiI6RDMCTx9zAxHnyJH1DkcRlkm",
     "timestamp": 1624352923584
    },
    {
     "file_id": "1ODbUqS0iWVQsmnC83HLcKf8kGsHJgzfz",
     "timestamp": 1624330037569
    }
   ]
  },
  "kernelspec": {
   "display_name": "Python 3 (ipykernel)",
   "language": "python",
   "name": "python3"
  },
  "language_info": {
   "codemirror_mode": {
    "name": "ipython",
    "version": 3
   },
   "file_extension": ".py",
   "mimetype": "text/x-python",
   "name": "python",
   "nbconvert_exporter": "python",
   "pygments_lexer": "ipython3",
   "version": "3.9.7"
  }
 },
 "nbformat": 4,
 "nbformat_minor": 1
}
