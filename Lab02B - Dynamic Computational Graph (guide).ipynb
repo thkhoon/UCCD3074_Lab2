{
 "cells": [
  {
   "cell_type": "markdown",
   "metadata": {
    "id": "42PY15GSnTwR"
   },
   "source": [
    "# Lab2B: Dynamic Computational Graphs\n",
    "\n",
    "How different are computation in PyTorch from numpy? One main difference is that PyTorch constructs a computational network as it executes. The computation network allows for  backpropagation where the gradients are computed, thus allowing us to update the parameter values. In this session, we shall learn how PyTorch works under the hood.\n",
    "\n",
    "#### Objectives:\n",
    "\n",
    "1. Learn how to perform forward propagation\n",
    "2. Learn how to perform backward propagation\n",
    "3. Understand how forward propagation builds a dynamic computational graph in PyTorch\n",
    "4. Understand how backward propagation computes the gradient and destroys the dynamic computational graph\n",
    "\n",
    "#### Content:\n",
    "1. [Computational Graph](#1.-Computational-Graph)\n",
    "2. [Forward Propagation](#2.-Forward-Propagation)\n",
    "3. [Backpropagation](#3.-Backpropagation)\n",
    "   1. [The requires_grad attribute](#A.-The-requires_grad-attribute)\n",
    "   2. [Backward Pass](#B.-Backward-Pass)\n",
    "   3. [Beware: Backpropagation accumulates and not refreshes the gradients](#C.-Beware:-Backpropagation-accumulates-and-not-refreshes-the-gradients)\n",
    "   4. [Explicit assignment creates additional node](#D.-Explicit-assignment-creates-additional-node)\n",
    "   5. [PyTorch .detach method](#E.-PyTorch-.detach-method)\n",
    "4. [Exercise](#Exercise)"
   ]
  },
  {
   "cell_type": "markdown",
   "metadata": {
    "id": "HFYIFMj4nTwX"
   },
   "source": [
    "In this tutorial, we shall visualize the computed computational graph using `torchviz` which is a wrapper for the `graphviz` library. The following code install `torchviz` for Colab. For windows, you need to also install [graphviz](https://graphviz.org/download/) and add the application to the system path."
   ]
  },
  {
   "cell_type": "code",
   "execution_count": null,
   "metadata": {
    "colab": {
     "base_uri": "https://localhost:8080/"
    },
    "executionInfo": {
     "elapsed": 2856,
     "status": "ok",
     "timestamp": 1624373434597,
     "user": {
      "displayName": "Hung Khoon Tan",
      "photoUrl": "",
      "userId": "06538390365184440233"
     },
     "user_tz": -480
    },
    "id": "fWgEcwt5nTwY",
    "outputId": "95c37861-2bdf-47b1-e5b2-5537e45e6aa5"
   },
   "outputs": [
    {
     "name": "stdout",
     "output_type": "stream",
     "text": [
      "Requirement already satisfied: torchviz in /usr/local/lib/python3.7/dist-packages (0.0.2)\n",
      "Requirement already satisfied: torch in /usr/local/lib/python3.7/dist-packages (from torchviz) (1.9.0+cu102)\n",
      "Requirement already satisfied: graphviz in /usr/local/lib/python3.7/dist-packages (from torchviz) (0.10.1)\n",
      "Requirement already satisfied: typing-extensions in /usr/local/lib/python3.7/dist-packages (from torch->torchviz) (3.7.4.3)\n"
     ]
    }
   ],
   "source": [
    "!pip install torchviz"
   ]
  },
  {
   "cell_type": "code",
   "execution_count": null,
   "metadata": {
    "id": "hbcI_ZVGnTwZ"
   },
   "outputs": [],
   "source": [
    "import torch\n",
    "from torchviz import make_dot"
   ]
  },
  {
   "cell_type": "markdown",
   "metadata": {
    "id": "kR13jb34nTwa"
   },
   "source": [
    "---\n",
    "## 1. Computational Graph\n",
    "\n",
    "Different from *numpy* computations, a *deep learning framework* such as *TensorFlow* and *PyTorch* constructs a **computational network** as it executes. The computational graph can be used to compute the **gradient** of the parameters, which in turn is used by the **Gradient Descent** algorithm to update the model parameters. The gradient descent algorithm is an **iterative** process that iterates between the following two steps:\n",
    "1. **forward** propagation computes the predicted output of the training sample and the **loss** function $L$\n",
    "2. **backward** propagation computes the **gradient** of the parameters $\\frac{dL}{dw_i}$"
   ]
  },
  {
   "cell_type": "markdown",
   "metadata": {
    "id": "qdPSN_LpnTwb"
   },
   "source": [
    "---\n",
    "## 2. Forward Propagation"
   ]
  },
  {
   "cell_type": "markdown",
   "metadata": {
    "id": "RUmv-XaBnTwc"
   },
   "source": [
    "### PyTorch is based on **Dynamic** Network\n",
    "PyTorch builds the computational graph under the hood *on the fly* as you code. This makes PyTorch very pythonic and easy to debug. \n",
    "\n",
    "Let's see what is meant by dynamic network computation by implementing the following codes.\n",
    "<p></p>\n",
    "<center>\n",
    "    $$i2h = W_x.x\\tag{1}$$    \n",
    "</center>\n",
    "<center>\n",
    "    $$h2h = W_h.h$\\tag{2}$$      \n",
    "</center>\n",
    "<center>\n",
    "    $$next\\_h^{(a)} = i2h + h2h$\\tag{3}$$     \n",
    "</center>\n",
    "<center>\n",
    "    $$next\\_h^{(t)} = \\tanh (next\\_h^{(a)})$\\tag{4}$$  \n",
    "</center>\n",
    "<center>\n",
    "    $$out^{(t)} = \\sum_i next\\_h_i^{(t)}$\\tag{5}$$  \n",
    "</center>\n",
    "\n",
    "where:\n",
    "* the parameters $W_x$ and $W_h$ are *random* tensors of size (3,2) and (3,3), respective\n",
    "* the input $x$ and $h$ are *random* tensors of size (2,1) and (3,1), respectively. \n",
    "* the intermediate tensors $i2h$, $h2h$ and $next\\_h$ are tensors of size (3,1)\n",
    "* the output $out$ is a scalar\n"
   ]
  },
  {
   "cell_type": "markdown",
   "metadata": {
    "id": "U_7dXlj1BKlD"
   },
   "source": [
    "First, let's initialize `Wh`, `Wx`, `x` and `h`. For `Wh` and `Wx`, we set its `requires_grad=True` to indicate that we wish to compute their gradients when we perform backpropagation later. The resultant computional graph are as follows:\n",
    "\n",
    "![image.png](data:image/png;base64,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)"
   ]
  },
  {
   "cell_type": "code",
   "execution_count": null,
   "metadata": {
    "colab": {
     "base_uri": "https://localhost:8080/"
    },
    "executionInfo": {
     "elapsed": 18,
     "status": "ok",
     "timestamp": 1624373434600,
     "user": {
      "displayName": "Hung Khoon Tan",
      "photoUrl": "",
      "userId": "06538390365184440233"
     },
     "user_tz": -480
    },
    "id": "gu5RGMjxnTwd",
    "outputId": "d5d572de-8c76-44a2-b1fc-9c2973032274",
    "scrolled": false
   },
   "outputs": [
    {
     "name": "stdout",
     "output_type": "stream",
     "text": [
      "Wh:\n",
      " tensor([[-0.0382,  0.3588,  0.9098],\n",
      "        [ 0.1079,  0.9366,  0.7766],\n",
      "        [ 1.7196, -0.3527, -0.9506]], requires_grad=True)\n",
      "Wx:\n",
      " tensor([[-0.0554, -1.2501],\n",
      "        [-0.5647,  0.1148],\n",
      "        [-1.9937, -0.6182]], requires_grad=True)\n",
      "x:\n",
      " tensor([[-0.8152],\n",
      "        [ 1.6714]])\n",
      "h:\n",
      " tensor([[ 0.9817],\n",
      "        [ 0.4191],\n",
      "        [-1.7654]])\n"
     ]
    }
   ],
   "source": [
    "# Initialize Wh, Wx, x, h\n",
    "Wh = torch.randn(3,3, requires_grad=True)\n",
    "Wx = torch.randn(3,2, requires_grad=True)\n",
    "x  = torch.randn(2,1)\n",
    "h  = torch.randn(3,1)\n",
    "\n",
    "print('Wh:\\n', Wh)\n",
    "print('Wx:\\n', Wx)\n",
    "print('x:\\n', x)\n",
    "print('h:\\n', h)"
   ]
  },
  {
   "cell_type": "markdown",
   "metadata": {
    "id": "2pMK9lNHBZ8H"
   },
   "source": [
    "The following code computes `i2h` and `h2h`. The computational graph is updated and looks like this now:\n",
    "\n",
    "![image.png](data:image/png;base64,iVBORw0KGgoAAAANSUhEUgAAAQUAAACZCAYAAAAmRS8dAAAWBElEQVR4Ae1dW4wVRRruRx999MXEx3lwEx8I8cm4Dy6GZJU1bkI2BJHgBsULGOJdR4WFhSGLrBdQUdY4yn2GEXEcuTlcHGDAgRFnWCaCiwiSOI6uxAmy8d98fabmdPfpPtOnq+vS1X8lM326T5/uqu/7/6/+unS1R5zqInDm9ACd/6KHzvXsoKF9Hf7flVPd458vHOmkH47vHN//qX+3sXNPHuii0/3HaHR0tG6ZZL5kPGTQK8ZvvWg2mfQKIldGvqMjG1+mS1sW0eWOYv2NdL1GX/X3RqmV2mc80sHngv+MiwKTXiX9zMnP6cf2YglBVLiG2xbRiYO7qoWS+MR4TAyeS/7jiwKTXiX96tWrdGzTqsJFB1FRwP7ZrSvot1/lmhKMR9U2kj655j8ekx6mevjbM4RaNs7Jinjs1OG94QI2uMd41AfMRf/xmPQw6d/173dGECBifTu3hAvY4B7jUR8wF/3HY9LDpPd2bnBKFFAemcR41EfPRf/xmPQw6a7hgeFTmcR41EfPNXxQHudEQdYJMOegiH0HSXkGyTKJ8aiPnmuiAP/xmPQw6YN721kUApAwHgEwYj666D8ekx5mWo3yL6BlTR7NbtY/qgF+ZZIaPPTjICIpWTyiWLroPwaaD2odRJZ0NSSrLbMw+LgtajKZJINH/5zryfMmUVtkRmjbFI+8pqnUH3d8ykylkZosHlEsXRTNzJFCdsLVOogs6WrCQbVljhMDcQxGK5Ok8FgzlSZ719OyNcHIYCbN9jzyEo6rjqZk8YhiKSOagiObtuA7e59CZsLVOogs6WqUX22Z6xmVWTwq5Z48Z0G19h+zm8lNHsUdDwtIUEzy+SyLR1QUpEQzEinV41HXd8BHovmQlXC1DiJLOn6fPwGizKKWjKsp8zH6aN5htDJJFo9oU8GPMKfMJLEV+fX3RZOieVIkkqjglkcUIYtHFEtZfET5bdmiPBKisIgyEd6h1kFkSccj0vkTVClzMGSOYpf/PSsiI9vHIo2H7+CiX6GCgx8hhI5XbCkYOQTx8T/n1Ncgi4c2UVAojPVsDf7jSZEeIjYt4WodRJZ0KTwSw8FKmUM1XQg7NVECyIfyyyR5PIK1PD6LPoak4wKLyveTm+I7K+sZdr3vZPGIYimPjyhv7VaVMNbDB/4jJwodScQmHUfB1TqILOn4fT3Qsn2ntsz18mQDHuM1PYRQNBE6AtFBgkBWOrMjfQ+JwlvrVHG4yOKhUxQuj/lX3sIYh4s4Bnykmg+4UOOEq3UQWdLxewFQflu1Za6XT9kZnnngIfoL2jBEGWgGJB33y+N3SHo0e0q0fyGd8ydhIotHVBTywCcprziuQhjr3Q/lkRaFJGKTjquOFGRJR5uqHmjZvjMnCiBZJuWCx5iDe15kAlfS8bFoUghIMIzOhn9VSGTxiGKpVBQUCWM9DPOZ5pxEbNJxy5sPaFPVAy3bd8UVhXzwqJQ/2NFawVEcFx2RFeet1I7BY2P9C8GhzYzNiLxFIRfRjC3LGDZjkVWewljPhoFP5slL1QsLYkUHklBlcTxILr6rHFfV6SZLulLljyVf4KVmK9vxynhEY4Pwfj6iWcu9SmGs+m7tfX1RYNL1kFyPCJXfoSaTSaqMXmWZ611bFo8oli76Tw6RQq3a1CNF9XeypKsLB83gBKOVSYxHffRcFM3s05wNhMJpBEXWCVxTfsYjLMayeEQlwkXRlB59SOOoOs+RJd01UZCNnBiPqAyE913DB+VxThRknWBw34cKRh/CtZVOkZTtaGQ8wiIQ3XNNFOA/HpMepvnEoW6nROHkvs5wARvcYzzqA+ai/3hMepj0keHv6dSmFieEYXjbUhroOxwuYIN7jEd9wFz0H49JryV9ZOioE6Ig25QSyDAeAonarYv+4782jkmvJbv34010bvOSQooD3nB1dMf7ub59mvGotRFxxDX/GX/BLJMuKK5uzw0N0g8DBwmvm0/zGnrUzGnO/eCtl+js/vZU5+K+aa+Lc7/p/YTODByvFiLHT6rwQL4/WLuCzh7oyBVn1XgEoXXJf8ZFAQVUTXoah7HJCYKk5/l52rRpudbieebN1LU6Oztp6dKlpm6fy31V+U9X66taK5GQKOSCTMJFQPjevXIvO024dKEO9/X1UXNzc6HyrCuzs2bNorNnz+q6XWHuA1xGRka05VebKFy8eJHmzp2rrWC23mj69OkELDjVIgBcgA+nKgIQA4iCzqRNFFAoED46OqqzfFbdC0b/xBNPWJUn2zKzcuVKam+Xe4GNbWWSyc+6deu046FVFED26tWrZTAq9G/nz59PaD5wSkYAlcbtt99e6sojiI6JilSrKIBwdLKVMaHsHBqnY76np4cjKiK/f8VEk1urKMAkED4PDg6msw6HzkJYjB52TukQgDOUPapC5zwEUnfSLgoQBITRZUsIiTmlR4A7HclYVK1dFGAWZRunR18KOow4NYYA+p/KihsiBFPzNoyIAsguUw8zd5w1JgbBs4GdzjH64L1NfkbzydScDSOiUKZON5OKb9Ko87o3+hVMdLbllf8s1zHtH0ZEAUBhQkYZJvFgxKEM5cxi/Gl/U7ahXNPNTWOigCnPptpMaY1R9ryydqrK4hb9PZoPZeqo1T2tOYq3MVFARlyfs4AarozDr1Ejy2N//fr1pZj4ZmJac5Qfo6Lg8kNSPKQWNTX5fVQirjfF0Alvej6LUVEAwbof9pA3zXRXwGQlfio0HVZpzypDp6MNw/VGRQHGYGJud1ojzHoeeo/L1AbOilOW32FGrKtiiyFIGyb2GRcFFx+SwoQbtIE55Y+AEFxsXUtYZ8OGqd3GRQHkutbhyJOV1LorKhIXR65siS6NiwLMx6VeenQSoT+Bk1oEXOt0tGmSmxWiEB3Px7BMUYbyolNR0UdSxmm5aiWg9urAPfooepGmzqNfBCMNwlYwa9OWkRUrRAGUQ/lBKoj2PK8wY9K33nor3XzzzX4fAtqDNnQU1bqQm0fQBofNoJYFB7CboiRElMgv/mDzyL8tyTiKUHz0KN9www3jIAGooqg+REGQiy0MVai/LSS7mg/UrFG7KQr2qECCdoPP1113nf+ch+nORqOiADGIAiP2sww7/efSCO3+/Cv618fH/L/Frd00b9X22D98J87rPHyahs5/n8l3EOGIPIvttdde60cM0aZFphvwj2IRwAgPnEhgLrZZMddtOxAvkefo1vRq30ZFQQwvRUHB/kTkDv/3F4Iz/7Otx3f63y9YS39+YSP9dVUnPfJGt//3VOsRWtL2RewfvhPn3f/yJzR98RbCNSAiLRsPUMfBAbo4/HOsQQYPYvJVXP4hFkWptYLlKcJnNNHiMMexNJWJLbZzzTXX1JTDtCCAf6OigAxAGOIcK24c+srV//mRwONvdtEdT7cSnHnh2wd9p39r/wXK4w8i8vg7PTTv1V30p+fW+yIB8fn5lyux/hKXdxuIjc2sQwfRSYeILCoOSc1OG22nqakplH9bRq2Mi4Kw06D6Q0GDCaE9wv07n271I4HnN/blIgBpRAQiAfGBCD23bjf1DV0IZs1vJgjDRL550lIIHqU76FMQHdOCg+hKTTbbTrA/KppvpcBNcHFrRAH5xIQUkIvOIySEeRADhPYI91fvOadNDKKC8Ub3eXp2/TG6Z/k2QqSCNigSogKRZ9MdRH6GSvgPPfmif0FEaUWwHRFl2iQIMB+rRAEZAkC33fYHWt1xhO5qXu+LQdRBTe8jUkH/xfINB+ixJ5/2h5NsGWMuoSb4RUZzEx3X8x58qDC28+zzLxp/IjLOXqwThS+/vkR/fPRVWvj2AULtbFoA6t3/yXcP0ZQHltPOI6fisOVjmhGA7dz11LrC2M7dz71H3Sfse3emVaKwYU8/zWrpoFd2nbVaDIJCgSbNfSt3+LWTZh/g2wUQYNsJgCH50QpRQM/wM2/vokde32N9dBAUhOBnRDYYzkwapZDkiX+egADbTgIwEoeNiwJIfWDVdmrecKww0UFQDIKfMVIxd+UHLAwSBtnIT9l2GkEr/bnGRWHRu5/SM+/1Fl4QhDj8bWs/zX/1o/QM8JmZEWDbyQxd3R8aFQW0A9FkEA7lyvbxdz6jl7bofwdgXaYd+5JtRx2hxkShZ+AczV6x3TlBEML2wCuf0I5D/1bHXImvzLajlnxjonDP37dSy/ZTzooCRlDufn4Dod3LKV8E2HbyxTN6NSOisL//a5qzcoezgiCihYfX7KGNe/ujmPO+BAJsOxLgpfypEVFwXemFKHC0kNIKGziNbacBsDKeql0UDg9+43RfghAEscXDVHjKkpM8Amw78himuYJ2Udj86Rf00Gr3RhyECES3eLQbaz5wkkeAbUcewzRX0C4KWMAE6xVEncfV/UVbTtACnreQxhYnPCdf22mlWzyPbmmpbCuPXs+g+fsP0vQbK2snet4kmr5BrNPR6Pnid9m3pmxHuyjct2IbLev4MidRaJSoRs/PTqgQOfQr3PlM64QGzydMjIAK2/E8CAF4rorDLS0V3uff4ZF34wu0JPR92vOLazvaRQEOkt8DT4LItEQ1er48sRAHLPPGSR4BFbYjBAA8+SJwR2u1wmqZQVHRSH9+cW1Huyjk23ssav4qAbYRi6copz7xjrxH8BWIbUePEWgXBSxphhWMRHgtt7VfFNBUQtjLSR4Bth15DNNcQbsoYFl1rKIsJwYiMrBfFNCpig4yTvIIsO3IY5jmCtpFAe9lwDLsZRGFh1//lN7bdTwNF3zOBAiw7UwAUE5faxcFPAuAZwLy6Wy0O1LAcnJYZxKLiHKSRyBf2xHRpp1bk7ajXRRgGngeAM8F5BMt2EkqyvbYus9o1VaeuCQvB9UrsO1UsVD1yYgoQPHRI2/7wqyyooWXyaR5y5Qqcl28LtuOelaNiAKKtXbHUVr41j5nowWsJoWVgTjljwDbTv6YBq9oTBSQicfe6KIXNx13ThgwDHn/S9t5LYWgpeX8mW0nZ0ADlzMqCggF57Rsc2qxlVVdX9G9y9u5czFgZCo+su2oQLVyTaOigCygzT1rWTv946PThY8YMKIye0VH5tfaq6PZzSuz7ajh1bgooFh4L+Pslm2FbkqgyTBjyVYWBDV2mnhVtp1EaDJ/YYUoIPd4iQraiUVc3RmrN2MqM89HyGyHUj9k25GCr+bH1oiCyBmW7p6xtC3Hx6vVzWNAkwcrUvNy7oI9s1u2nXzwt04UUCy8KBQ1LxZ3Rced7HyBvH+PvoMHX9tFf1m8mbBEGCd7EGDbkefCSlEQxcLKvZgSjdmPNogDxODRtfv8PLUf+FJkk7cWIsC2k50Uq0VBFAtTWyEOaFbgqUOsUZB37Z90Pcy6fKr1iN9MwCIfb310lOcfCGIKsGXbaZykQoiCKBZCQzyGjCnSeNISzqrihTLoK8CaD1iJGfda3NrNzQRBQkG3bDvpiSuUKASLhcdo4axYjee2hevonuXbCI8pw5nx9mf8JdX+4jiGEXHe8xv7/DUecA2IAPoKsKAHlmbHJBlObiHAtlOfz8KKQrBYcNy+oQv+ugVw5nmrtvt/WBsx+Pe7O+aF9tGZiXMff7OLsIAHroHhLU7lQYBtp5ZrJ0ShtljxR2bNmhX/BR9lBCZAoEy2w6IwgTHw14wAEGBRcNQOykSsoxQaK1aZbIcjBWNmxjcuEgIsCkViq4G8lonYBmDhU1MgUCbb4UghhUHwKYwAi4KjNlAmYh2l0FixymQ7HCkYMzO+cZEQYFEoElsN5LVMxDYAC5+aAoEy2Q5HCikMgk9hBFgUHLWBMhHrKIXGilUm2+FIwZiZ8Y2LhACLQpHYaiCvZSK2AVj41BQIlMl2OFJIYRB8SvkQ6OvrI8/zEv/a29udBcVpUQBxZSXWWYvVWLBp06bF2s9NN92kMRf6b+W0KABOEBgnDK4Tq9+U3LtjUrTgcpQAFp0XhaRowXVi3XNRMyWKRgtlqEycFwWYUjRaKAOxZlzIvbtGo4UyVCalEIVotFAGYt1zT3MlEtFCWSqTUogCzElEC2Uh1pwLuXdnES2UpTIpjSiIaKEsxLrnmulKdOb0AJ3/oofO9eygoX0d/t+VU93jny8c6aQfju8c3/+pf3eqcx+6dzqlPRf3TXPuyQNddLr/GI2OjqYrnKazSiMKwLNME1A02Y81t7ky8h0d2fgyXdqyiC53FOtvpOs1+qq/1xosrRQFVWqfVsFFDVNktbfGwjRk5MzJz+nH9mIJQVS4htsW0YmDuzSgNfEtrBIFVvuJCeMzwghcvXqVjm1aVbjoICoK2D+7dQX99qv5poQ1osBqHzZ23kuHwPC3Zwi1bJyTFfHYqcN70xVc4VlWiAKrvUKGHb/0d/37nREEiFjfzi3GGbNCFFjtjdtBYTPQ27nBKVFAeUwnK0SB1d60GRT3/q6JAoZPTScrRME1Ym1Qe9OGpev+mHNQxL6DpDzbYDssCgrGtG1Qe11Oafo+g3vbWRRyJsEKUWC1z5nVEl1Ob5S5gJY1eTS7Wd1oB0TOdLJCFFjtTZtBce8vZzsVJ/emzKxGG2um0uTgikvB7zrUiwIqSNPJClHIpvayBMn+Prm2sEHtTRuWrvvLRZlRUZhJs71J1CaalGMCMXnOgjHRUGczoo+B+xTGLCeb2qcgyJDq26D2upzS9H2yVSjJgi6cU2zbpnhUjSRS2JwQlIxbFoUxi8qm9hMRZE71bSDWtLPqur+sKISdvlYswt8Lm4NtiUVdr6dla2p/J0Sl0a0NFUqpmg/xBOdHqDAAFgVdkkD+Y88C9yzbsE1EbGEs0qx2LFZEwfOqQuD/vmkq9WeMDKJ5tqHp6YAopFftsAGoU30b1F6fW5q9E9ZNiDpWI/thmwiKwpgATNTR2DyJvGA/hKQ42FChWCEK2YhtULU1qr4Nam/WVfXdXVXzIT4CEBVJQDxYFNSQLSMK1dBuEV1OJEiv6tug9mqYsu+qKkTBF4TY2l+9KNgw8c2KSCEbsekJ0q36LAr6xCNbJ3W1po82H5IFAb9Jb3ONNGGC59pgO86LQjLJ6gi2Qe31uaXZO2Ubzk4QhegQds0IgzqbEcLAojBmT9nUfmKCkgVBrerbQKxZV9V3d2AtHMqFrQ39UVZECtnUfgJRMKj6LAr6RCGb7VQjBduExIaRKytEgdVenxO5dqdsUaa9omBDhWKFKLDau+aq+srjWoXCojBmO6z2+pzItTu5JgrcfBizUNeItUHtXXP+pPIM7vuQOxqTwMl43Irmg2uiYIPaZ7SHwv3sxKFup0Th5L5O4xxYIQqs9sbtoLAZGBn+nk5tanFCGIa3LaWBvsPGubBCFFjtjdtBoTMwMnTUCVGwJcK0QhRY7Qvtk1ZkvvfjTXRu85JCigPecHV0x/vWvH3aClGAVbHaW+Fbhc7EuaFB+mHgIOF18+IlwZhyLj5HX0OPmtn0ud/0fkJnBo5bhbs1ogBUWO2tsg3OTEkRsEoUwAGrfUktkYttDQLWiYI1yHBGGIGSIsCiUFLiudiMQBICLApJyPBxRqCkCPwfzCnRA3WacIEAAAAASUVORK5CYII=)"
   ]
  },
  {
   "cell_type": "code",
   "execution_count": null,
   "metadata": {
    "colab": {
     "base_uri": "https://localhost:8080/"
    },
    "executionInfo": {
     "elapsed": 17,
     "status": "ok",
     "timestamp": 1624373434601,
     "user": {
      "displayName": "Hung Khoon Tan",
      "photoUrl": "",
      "userId": "06538390365184440233"
     },
     "user_tz": -480
    },
    "id": "34CfyUFzHaLg",
    "outputId": "21005f11-fab0-4baa-967f-9d22997b7cae"
   },
   "outputs": [
    {
     "name": "stdout",
     "output_type": "stream",
     "text": [
      "i2h:\n",
      " tensor([[-2.0443],\n",
      "        [ 0.6522],\n",
      "        [ 0.5921]], grad_fn=<MmBackward>)\n",
      "h2h:\n",
      " tensor([[-1.4933],\n",
      "        [-0.8725],\n",
      "        [ 3.2184]], grad_fn=<MmBackward>)\n"
     ]
    }
   ],
   "source": [
    "# compute i2h and h2h\n",
    "i2h = Wx.mm(x)\n",
    "h2h = Wh.mm(h)\n",
    "\n",
    "print('i2h:\\n', i2h)\n",
    "print('h2h:\\n', h2h)"
   ]
  },
  {
   "cell_type": "markdown",
   "metadata": {
    "id": "UX1NTkr3Bv27"
   },
   "source": [
    "\n"
   ]
  },
  {
   "cell_type": "code",
   "execution_count": null,
   "metadata": {
    "colab": {
     "base_uri": "https://localhost:8080/"
    },
    "executionInfo": {
     "elapsed": 14,
     "status": "ok",
     "timestamp": 1624373434602,
     "user": {
      "displayName": "Hung Khoon Tan",
      "photoUrl": "",
      "userId": "06538390365184440233"
     },
     "user_tz": -480
    },
    "id": "qfD5UBn_HdPY",
    "outputId": "3d03e758-cee0-4f8c-ab78-ae1e9047cf9d"
   },
   "outputs": [
    {
     "name": "stdout",
     "output_type": "stream",
     "text": [
      "next_h:\n",
      " tensor([[-3.5376],\n",
      "        [-0.2202],\n",
      "        [ 3.8106]], grad_fn=<AddBackward0>)\n"
     ]
    }
   ],
   "source": [
    "# add i2h and h2h\n",
    "next_h = i2h + h2h\n",
    "print('next_h:\\n', next_h)"
   ]
  },
  {
   "cell_type": "markdown",
   "metadata": {
    "id": "qd4oEgICB6KL"
   },
   "source": [
    "The following code subjects `next_h` to tanh and name the output as `next_h`. The computational graph is updated as follows. Note that the old `next_h` node is now *unnamed* and the output of tanh assume the name `next_h`.\n",
    "\n",
    "![image.png](data:image/png;base64,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)\n"
   ]
  },
  {
   "cell_type": "code",
   "execution_count": null,
   "metadata": {
    "colab": {
     "base_uri": "https://localhost:8080/"
    },
    "executionInfo": {
     "elapsed": 10,
     "status": "ok",
     "timestamp": 1624373435177,
     "user": {
      "displayName": "Hung Khoon Tan",
      "photoUrl": "",
      "userId": "06538390365184440233"
     },
     "user_tz": -480
    },
    "id": "me3w3h8GHf78",
    "outputId": "c4a0ce33-95e4-440e-f32f-27359677fe08"
   },
   "outputs": [
    {
     "name": "stdout",
     "output_type": "stream",
     "text": [
      "next_h:\n",
      " tensor([[-0.9983],\n",
      "        [-0.2167],\n",
      "        [ 0.9990]], grad_fn=<TanhBackward>)\n"
     ]
    }
   ],
   "source": [
    "# apply tanh\n",
    "next_h = next_h.tanh()\n",
    "print('next_h:\\n', next_h)"
   ]
  },
  {
   "cell_type": "markdown",
   "metadata": {
    "id": "x5l2gezkCWDS"
   },
   "source": [
    "Now, sum all the items in vector `next_h` and store the output as `out`.\n",
    "\n",
    "![image.png](data:image/png;base64,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)"
   ]
  },
  {
   "cell_type": "code",
   "execution_count": null,
   "metadata": {
    "colab": {
     "base_uri": "https://localhost:8080/"
    },
    "executionInfo": {
     "elapsed": 9,
     "status": "ok",
     "timestamp": 1624373435178,
     "user": {
      "displayName": "Hung Khoon Tan",
      "photoUrl": "",
      "userId": "06538390365184440233"
     },
     "user_tz": -480
    },
    "id": "2dkZm7zFnTwf",
    "outputId": "523894be-2ba3-430f-eb71-7b89f3042011"
   },
   "outputs": [
    {
     "name": "stdout",
     "output_type": "stream",
     "text": [
      "out:\n",
      " tensor(-0.2160, grad_fn=<SumBackward0>)\n"
     ]
    }
   ],
   "source": [
    "# sum all items in next_h\n",
    "out    = next_h.sum()\n",
    "print('out:\\n', out)"
   ]
  },
  {
   "cell_type": "markdown",
   "metadata": {
    "id": "dR_sRdRuM7_F"
   },
   "source": [
    "The following code uses graphviz to plot the computational graph"
   ]
  },
  {
   "cell_type": "code",
   "execution_count": null,
   "metadata": {
    "colab": {
     "base_uri": "https://localhost:8080/",
     "height": 528
    },
    "executionInfo": {
     "elapsed": 378,
     "status": "ok",
     "timestamp": 1624373437387,
     "user": {
      "displayName": "Hung Khoon Tan",
      "photoUrl": "",
      "userId": "06538390365184440233"
     },
     "user_tz": -480
    },
    "id": "gi2TK8jeMhSK",
    "outputId": "52607267-fc05-429d-80d3-850c74914c35"
   },
   "outputs": [
    {
     "data": {
      "image/svg+xml": [
       "<?xml version=\"1.0\" encoding=\"UTF-8\" standalone=\"no\"?>\n",
       "<!DOCTYPE svg PUBLIC \"-//W3C//DTD SVG 1.1//EN\"\n",
       " \"http://www.w3.org/Graphics/SVG/1.1/DTD/svg11.dtd\">\n",
       "<!-- Generated by graphviz version 2.40.1 (20161225.0304)\n",
       " -->\n",
       "<!-- Title: %3 Pages: 1 -->\n",
       "<svg width=\"228pt\" height=\"381pt\"\n",
       " viewBox=\"0.00 0.00 228.00 381.00\" xmlns=\"http://www.w3.org/2000/svg\" xmlns:xlink=\"http://www.w3.org/1999/xlink\">\n",
       "<g id=\"graph0\" class=\"graph\" transform=\"scale(1 1) rotate(0) translate(4 377)\">\n",
       "<title>%3</title>\n",
       "<polygon fill=\"#ffffff\" stroke=\"transparent\" points=\"-4,4 -4,-377 224,-377 224,4 -4,4\"/>\n",
       "<!-- 140069252118240 -->\n",
       "<g id=\"node1\" class=\"node\">\n",
       "<title>140069252118240</title>\n",
       "<polygon fill=\"#caff70\" stroke=\"#000000\" points=\"136.5,-31 82.5,-31 82.5,0 136.5,0 136.5,-31\"/>\n",
       "<text text-anchor=\"middle\" x=\"109.5\" y=\"-7\" font-family=\"monospace\" font-size=\"10.00\" fill=\"#000000\"> ()</text>\n",
       "</g>\n",
       "<!-- 140069252274128 -->\n",
       "<g id=\"node2\" class=\"node\">\n",
       "<title>140069252274128</title>\n",
       "<polygon fill=\"#d3d3d3\" stroke=\"#000000\" points=\"154,-86 65,-86 65,-67 154,-67 154,-86\"/>\n",
       "<text text-anchor=\"middle\" x=\"109.5\" y=\"-74\" font-family=\"monospace\" font-size=\"10.00\" fill=\"#000000\">SumBackward0</text>\n",
       "</g>\n",
       "<!-- 140069252274128&#45;&gt;140069252118240 -->\n",
       "<g id=\"edge9\" class=\"edge\">\n",
       "<title>140069252274128&#45;&gt;140069252118240</title>\n",
       "<path fill=\"none\" stroke=\"#000000\" d=\"M109.5,-66.9688C109.5,-60.1289 109.5,-50.5621 109.5,-41.5298\"/>\n",
       "<polygon fill=\"#000000\" stroke=\"#000000\" points=\"113.0001,-41.3678 109.5,-31.3678 106.0001,-41.3678 113.0001,-41.3678\"/>\n",
       "</g>\n",
       "<!-- 140069252272848 -->\n",
       "<g id=\"node3\" class=\"node\">\n",
       "<title>140069252272848</title>\n",
       "<polygon fill=\"#d3d3d3\" stroke=\"#000000\" points=\"154,-141 65,-141 65,-122 154,-122 154,-141\"/>\n",
       "<text text-anchor=\"middle\" x=\"109.5\" y=\"-129\" font-family=\"monospace\" font-size=\"10.00\" fill=\"#000000\">TanhBackward</text>\n",
       "</g>\n",
       "<!-- 140069252272848&#45;&gt;140069252274128 -->\n",
       "<g id=\"edge1\" class=\"edge\">\n",
       "<title>140069252272848&#45;&gt;140069252274128</title>\n",
       "<path fill=\"none\" stroke=\"#000000\" d=\"M109.5,-121.9197C109.5,-114.9083 109.5,-105.1442 109.5,-96.4652\"/>\n",
       "<polygon fill=\"#000000\" stroke=\"#000000\" points=\"113.0001,-96.3408 109.5,-86.3408 106.0001,-96.3409 113.0001,-96.3408\"/>\n",
       "</g>\n",
       "<!-- 140069252273808 -->\n",
       "<g id=\"node4\" class=\"node\">\n",
       "<title>140069252273808</title>\n",
       "<polygon fill=\"#d3d3d3\" stroke=\"#000000\" points=\"154,-196 65,-196 65,-177 154,-177 154,-196\"/>\n",
       "<text text-anchor=\"middle\" x=\"109.5\" y=\"-184\" font-family=\"monospace\" font-size=\"10.00\" fill=\"#000000\">AddBackward0</text>\n",
       "</g>\n",
       "<!-- 140069252273808&#45;&gt;140069252272848 -->\n",
       "<g id=\"edge2\" class=\"edge\">\n",
       "<title>140069252273808&#45;&gt;140069252272848</title>\n",
       "<path fill=\"none\" stroke=\"#000000\" d=\"M109.5,-176.9197C109.5,-169.9083 109.5,-160.1442 109.5,-151.4652\"/>\n",
       "<polygon fill=\"#000000\" stroke=\"#000000\" points=\"113.0001,-151.3408 109.5,-141.3408 106.0001,-151.3409 113.0001,-151.3408\"/>\n",
       "</g>\n",
       "<!-- 140069252274320 -->\n",
       "<g id=\"node5\" class=\"node\">\n",
       "<title>140069252274320</title>\n",
       "<polygon fill=\"#d3d3d3\" stroke=\"#000000\" points=\"101,-251 24,-251 24,-232 101,-232 101,-251\"/>\n",
       "<text text-anchor=\"middle\" x=\"62.5\" y=\"-239\" font-family=\"monospace\" font-size=\"10.00\" fill=\"#000000\">MmBackward</text>\n",
       "</g>\n",
       "<!-- 140069252274320&#45;&gt;140069252273808 -->\n",
       "<g id=\"edge3\" class=\"edge\">\n",
       "<title>140069252274320&#45;&gt;140069252273808</title>\n",
       "<path fill=\"none\" stroke=\"#000000\" d=\"M70.6868,-231.9197C77.2109,-224.2851 86.5241,-213.3867 94.3923,-204.1792\"/>\n",
       "<polygon fill=\"#000000\" stroke=\"#000000\" points=\"97.2548,-206.217 101.0906,-196.3408 91.9332,-201.6694 97.2548,-206.217\"/>\n",
       "</g>\n",
       "<!-- 140069252220240 -->\n",
       "<g id=\"node6\" class=\"node\">\n",
       "<title>140069252220240</title>\n",
       "<polygon fill=\"#d3d3d3\" stroke=\"#000000\" points=\"101,-306 0,-306 0,-287 101,-287 101,-306\"/>\n",
       "<text text-anchor=\"middle\" x=\"50.5\" y=\"-294\" font-family=\"monospace\" font-size=\"10.00\" fill=\"#000000\">AccumulateGrad</text>\n",
       "</g>\n",
       "<!-- 140069252220240&#45;&gt;140069252274320 -->\n",
       "<g id=\"edge4\" class=\"edge\">\n",
       "<title>140069252220240&#45;&gt;140069252274320</title>\n",
       "<path fill=\"none\" stroke=\"#000000\" d=\"M52.5902,-286.9197C54.137,-279.8304 56.2978,-269.9269 58.207,-261.1763\"/>\n",
       "<polygon fill=\"#000000\" stroke=\"#000000\" points=\"61.6407,-261.8571 60.3529,-251.3408 54.8016,-260.3649 61.6407,-261.8571\"/>\n",
       "</g>\n",
       "<!-- 140069252126992 -->\n",
       "<g id=\"node7\" class=\"node\">\n",
       "<title>140069252126992</title>\n",
       "<polygon fill=\"#add8e6\" stroke=\"#000000\" points=\"80,-373 21,-373 21,-342 80,-342 80,-373\"/>\n",
       "<text text-anchor=\"middle\" x=\"50.5\" y=\"-349\" font-family=\"monospace\" font-size=\"10.00\" fill=\"#000000\"> (3, 2)</text>\n",
       "</g>\n",
       "<!-- 140069252126992&#45;&gt;140069252220240 -->\n",
       "<g id=\"edge5\" class=\"edge\">\n",
       "<title>140069252126992&#45;&gt;140069252220240</title>\n",
       "<path fill=\"none\" stroke=\"#000000\" d=\"M50.5,-341.791C50.5,-334.0249 50.5,-324.5706 50.5,-316.3129\"/>\n",
       "<polygon fill=\"#000000\" stroke=\"#000000\" points=\"54.0001,-316.0647 50.5,-306.0648 47.0001,-316.0648 54.0001,-316.0647\"/>\n",
       "</g>\n",
       "<!-- 140069252274640 -->\n",
       "<g id=\"node8\" class=\"node\">\n",
       "<title>140069252274640</title>\n",
       "<polygon fill=\"#d3d3d3\" stroke=\"#000000\" points=\"202,-251 125,-251 125,-232 202,-232 202,-251\"/>\n",
       "<text text-anchor=\"middle\" x=\"163.5\" y=\"-239\" font-family=\"monospace\" font-size=\"10.00\" fill=\"#000000\">MmBackward</text>\n",
       "</g>\n",
       "<!-- 140069252274640&#45;&gt;140069252273808 -->\n",
       "<g id=\"edge6\" class=\"edge\">\n",
       "<title>140069252274640&#45;&gt;140069252273808</title>\n",
       "<path fill=\"none\" stroke=\"#000000\" d=\"M154.0939,-231.9197C146.4451,-224.1293 135.4597,-212.9405 126.3064,-203.6176\"/>\n",
       "<polygon fill=\"#000000\" stroke=\"#000000\" points=\"128.6653,-201.0244 119.1619,-196.3408 123.6704,-205.9286 128.6653,-201.0244\"/>\n",
       "</g>\n",
       "<!-- 140069252220688 -->\n",
       "<g id=\"node9\" class=\"node\">\n",
       "<title>140069252220688</title>\n",
       "<polygon fill=\"#d3d3d3\" stroke=\"#000000\" points=\"220,-306 119,-306 119,-287 220,-287 220,-306\"/>\n",
       "<text text-anchor=\"middle\" x=\"169.5\" y=\"-294\" font-family=\"monospace\" font-size=\"10.00\" fill=\"#000000\">AccumulateGrad</text>\n",
       "</g>\n",
       "<!-- 140069252220688&#45;&gt;140069252274640 -->\n",
       "<g id=\"edge7\" class=\"edge\">\n",
       "<title>140069252220688&#45;&gt;140069252274640</title>\n",
       "<path fill=\"none\" stroke=\"#000000\" d=\"M168.4549,-286.9197C167.69,-279.9083 166.6248,-270.1442 165.678,-261.4652\"/>\n",
       "<polygon fill=\"#000000\" stroke=\"#000000\" points=\"169.1375,-260.9023 164.5735,-251.3408 162.1787,-261.6614 169.1375,-260.9023\"/>\n",
       "</g>\n",
       "<!-- 140069252126032 -->\n",
       "<g id=\"node10\" class=\"node\">\n",
       "<title>140069252126032</title>\n",
       "<polygon fill=\"#add8e6\" stroke=\"#000000\" points=\"199,-373 140,-373 140,-342 199,-342 199,-373\"/>\n",
       "<text text-anchor=\"middle\" x=\"169.5\" y=\"-349\" font-family=\"monospace\" font-size=\"10.00\" fill=\"#000000\"> (3, 3)</text>\n",
       "</g>\n",
       "<!-- 140069252126032&#45;&gt;140069252220688 -->\n",
       "<g id=\"edge8\" class=\"edge\">\n",
       "<title>140069252126032&#45;&gt;140069252220688</title>\n",
       "<path fill=\"none\" stroke=\"#000000\" d=\"M169.5,-341.791C169.5,-334.0249 169.5,-324.5706 169.5,-316.3129\"/>\n",
       "<polygon fill=\"#000000\" stroke=\"#000000\" points=\"173.0001,-316.0647 169.5,-306.0648 166.0001,-316.0648 173.0001,-316.0647\"/>\n",
       "</g>\n",
       "</g>\n",
       "</svg>\n"
      ],
      "text/plain": [
       "<graphviz.dot.Digraph at 0x7f646a069750>"
      ]
     },
     "execution_count": 8,
     "metadata": {
      "tags": []
     },
     "output_type": "execute_result"
    }
   ],
   "source": [
    "make_dot(out)"
   ]
  },
  {
   "cell_type": "markdown",
   "metadata": {
    "id": "mrO3-xJnnTwn"
   },
   "source": [
    "---\n",
    "# 3. Backpropagation\n",
    "\n",
    "In the gradient descent algorithm, the forward propagation is always followed by backpropagation. The purpose of backpropagation is to **compute the gradient of some signal** with respect to the output. \n",
    "\n",
    "\n",
    "### A. The `requires_grad` attribute\n",
    "\n",
    "To compute the gradient of a particular signal, e.g., $\\frac{dout}{dW_h}$ and $\\frac{dout}{dW_x}$, we must set their `requires_grad` attributes to `True`. Recall that we have already done so for `Wh` and `Wx`.\n",
    "\n",
    "```\n",
    "Wh = torch.randn(3,3, requires_grad=True)\n",
    "Wx = torch.randn(3,2, requires_grad=True)\n",
    "x  = torch.randn(2,1)\n",
    "h  = torch.randn(3,1)\n",
    "```\n",
    "\n",
    "The `requires_grad` attribute is **contagious**. For a mathematical operations during forward propagation, if any one of the input tensor is set to `requires_grad=True`, then the generated output tensor will by default be set to `requires_grad=True`. \n",
    "\n",
    "The following diagram shows the values of `requires_grad` of all the tensors in the computational graph."
   ]
  },
  {
   "cell_type": "markdown",
   "metadata": {
    "id": "s0RLU6eOnTwp"
   },
   "source": [
    "![image.png](data:image/png;base64,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)"
   ]
  },
  {
   "cell_type": "code",
   "execution_count": null,
   "metadata": {
    "colab": {
     "base_uri": "https://localhost:8080/"
    },
    "executionInfo": {
     "elapsed": 475,
     "status": "ok",
     "timestamp": 1624373608938,
     "user": {
      "displayName": "Hung Khoon Tan",
      "photoUrl": "",
      "userId": "06538390365184440233"
     },
     "user_tz": -480
    },
    "id": "IzND5MuCnTwq",
    "outputId": "f52d9483-f32e-4f41-ac5a-823aaccd653a"
   },
   "outputs": [
    {
     "name": "stdout",
     "output_type": "stream",
     "text": [
      "Wh: requires_grad = True\n",
      "Wx: reqauires_grad = True\n",
      "h: requires_grad = False\n",
      "x: requires_grad = False\n",
      "i2h: requires_grad = True\n",
      "h2h: requires_grad = True\n",
      "next_h: requires_grad = True\n",
      "out: requires_grad = True\n"
     ]
    }
   ],
   "source": [
    "print('Wh: requires_grad =', Wh.requires_grad)\n",
    "print('Wx: reqauires_grad =', Wx.requires_grad)\n",
    "print('h: requires_grad =',  h.requires_grad)\n",
    "print('x: requires_grad =',  x.requires_grad)\n",
    "print('i2h: requires_grad =', i2h.requires_grad)\n",
    "print('h2h: requires_grad =', h2h.requires_grad)\n",
    "print('next_h: requires_grad =', next_h.requires_grad)\n",
    "print('out: requires_grad =', out.requires_grad)"
   ]
  },
  {
   "cell_type": "markdown",
   "metadata": {
    "id": "Wyx6Uf_lnTwt"
   },
   "source": [
    "---\n",
    "\n",
    "### B. Backward Pass\n",
    "\n",
    "We perform backward propagation from the signal that we want to differentiate. For example, referring to figure 1, backpropagating from $out$ gives us $\\frac{dout}{dW_h}$ and $\\frac{dout}{dWx}$."
   ]
  },
  {
   "cell_type": "code",
   "execution_count": null,
   "metadata": {
    "id": "ORsVUnwSnTwt"
   },
   "outputs": [],
   "source": [
    "out.backward()"
   ]
  },
  {
   "cell_type": "markdown",
   "metadata": {
    "id": "99xbS6yCnTwu"
   },
   "source": [
    "Backpropagation helps us to compute $\\frac{dout}{dW_x}$ and $\\frac{dout}{W_h}$ which we have set `requires_grad=True`."
   ]
  },
  {
   "cell_type": "code",
   "execution_count": null,
   "metadata": {
    "colab": {
     "base_uri": "https://localhost:8080/"
    },
    "executionInfo": {
     "elapsed": 373,
     "status": "ok",
     "timestamp": 1624373614044,
     "user": {
      "displayName": "Hung Khoon Tan",
      "photoUrl": "",
      "userId": "06538390365184440233"
     },
     "user_tz": -480
    },
    "id": "NCM3IA4wnTwu",
    "outputId": "600df001-7f02-47ca-f591-e24a1ed9be94"
   },
   "outputs": [
    {
     "name": "stdout",
     "output_type": "stream",
     "text": [
      "gradient of Wx:\n",
      " tensor([[-0.0028,  0.0056],\n",
      "        [-0.7770,  1.5929],\n",
      "        [-0.0016,  0.0033]])\n",
      "\n",
      "gradient of Wh:\n",
      " tensor([[ 3.3156e-03,  1.4155e-03, -5.9624e-03],\n",
      "        [ 9.3559e-01,  3.9941e-01, -1.6824e+00],\n",
      "        [ 1.9222e-03,  8.2059e-04, -3.4566e-03]])\n"
     ]
    }
   ],
   "source": [
    "print('gradient of Wx:\\n',Wx.grad)\n",
    "print('\\ngradient of Wh:\\n', Wh.grad)"
   ]
  },
  {
   "cell_type": "markdown",
   "metadata": {
    "id": "_5lnZRsunTwv"
   },
   "source": [
    "The gradients for other tensors are not available:\n",
    "* The values of $\\frac{dout}{dx}$ and $\\frac{dout}{dh}$ are not available since their `requires_grad=False`.\n",
    "* The gradients of **intermediate** (non-leaf) nodes such as $i2h$, $h2h$ and $next\\_h$ are also not available. This is because all the intermediate variables' gradient are **removed** during the `backward()` call. If you want to retain those gradients, call `i2h.retain_grad()`, `h2h.retain_grad()` and `next_h.retain_grad` before calling `backward()`."
   ]
  },
  {
   "cell_type": "code",
   "execution_count": null,
   "metadata": {
    "colab": {
     "base_uri": "https://localhost:8080/"
    },
    "executionInfo": {
     "elapsed": 377,
     "status": "ok",
     "timestamp": 1624373616957,
     "user": {
      "displayName": "Hung Khoon Tan",
      "photoUrl": "",
      "userId": "06538390365184440233"
     },
     "user_tz": -480
    },
    "id": "x9lFYgOcnTww",
    "outputId": "7870cbba-7ecc-427c-b5b6-3dd2bf208c86"
   },
   "outputs": [
    {
     "name": "stdout",
     "output_type": "stream",
     "text": [
      "gradient of x: None\n",
      "gradient of h: None\n",
      "gradient of i2h: None\n",
      "gradient of h2h: None\n",
      "gradient of next_h: None\n"
     ]
    },
    {
     "name": "stderr",
     "output_type": "stream",
     "text": [
      "/usr/local/lib/python3.7/dist-packages/ipykernel_launcher.py:4: UserWarning: The .grad attribute of a Tensor that is not a leaf Tensor is being accessed. Its .grad attribute won't be populated during autograd.backward(). If you indeed want the gradient for a non-leaf Tensor, use .retain_grad() on the non-leaf Tensor. If you access the non-leaf Tensor by mistake, make sure you access the leaf Tensor instead. See github.com/pytorch/pytorch/pull/30531 for more information.\n",
      "  after removing the cwd from sys.path.\n",
      "/usr/local/lib/python3.7/dist-packages/ipykernel_launcher.py:5: UserWarning: The .grad attribute of a Tensor that is not a leaf Tensor is being accessed. Its .grad attribute won't be populated during autograd.backward(). If you indeed want the gradient for a non-leaf Tensor, use .retain_grad() on the non-leaf Tensor. If you access the non-leaf Tensor by mistake, make sure you access the leaf Tensor instead. See github.com/pytorch/pytorch/pull/30531 for more information.\n",
      "  \"\"\"\n",
      "/usr/local/lib/python3.7/dist-packages/ipykernel_launcher.py:6: UserWarning: The .grad attribute of a Tensor that is not a leaf Tensor is being accessed. Its .grad attribute won't be populated during autograd.backward(). If you indeed want the gradient for a non-leaf Tensor, use .retain_grad() on the non-leaf Tensor. If you access the non-leaf Tensor by mistake, make sure you access the leaf Tensor instead. See github.com/pytorch/pytorch/pull/30531 for more information.\n",
      "  \n"
     ]
    }
   ],
   "source": [
    "# requires_grad set to False\n",
    "print('gradient of x:', x.grad)\n",
    "print('gradient of h:', h.grad)\n",
    "\n",
    "# removed during backpropagation\n",
    "print('gradient of i2h:', i2h.grad)\n",
    "print('gradient of h2h:', h2h.grad)\n",
    "print('gradient of next_h:', next_h.grad)"
   ]
  },
  {
   "cell_type": "markdown",
   "metadata": {
    "id": "tMnfAZIonTw0"
   },
   "source": [
    "When you call `out.backward()`, as the gradients are computed, these buffers (for non-leaf variables) are essentially freed, and the graph is destroyed leaving only the tensors intact. In other words, once you call `out.backward`, **the graph is destroyed**. \n",
    "\n",
    "Hence, you cannot call `out.backward()` twice."
   ]
  },
  {
   "cell_type": "code",
   "execution_count": null,
   "metadata": {
    "id": "l_HtA8T4nTw0"
   },
   "outputs": [],
   "source": [
    "out.backward()     # this will generate an error"
   ]
  },
  {
   "cell_type": "markdown",
   "metadata": {
    "id": "UC6jxIjznTw2"
   },
   "source": [
    "---\n",
    "\n",
    "### C. Beware: Backpropagation accumulates and not refreshes the gradients\n",
    "\n",
    "PyTorch does **not overwrite** the gradient each time you compute the gradient. Rather, it **accumulates** the gradient of the tensors that we have set `requires_grad=True`. The following code makes this point. First, let's monitor the gradient of $W_h$ when we perform forward and backpropagation multiple times. We shall set $W_h$, $W_x$, $h$ and $x$ to a constant so that the gradient in each iterations are predictable and remains the same"
   ]
  },
  {
   "cell_type": "code",
   "execution_count": null,
   "metadata": {
    "id": "jVeN4EK7nTw3"
   },
   "outputs": [],
   "source": [
    "Wh = torch.ones(3,3, requires_grad=True)\n",
    "Wx = torch.zeros(3,2)\n",
    "x  = torch.ones(2,1)\n",
    "h  = torch.ones(3,1)\n",
    "\n",
    "def forward():\n",
    "    i2h = Wx.mm(x)\n",
    "    h2h = Wh.mm(h)\n",
    "    next_h = i2h + h2h\n",
    "    next_h = next_h.tanh()\n",
    "    out    = next_h.sum()\n",
    "    return out"
   ]
  },
  {
   "cell_type": "markdown",
   "metadata": {
    "id": "l0JmHsBnnTw3"
   },
   "source": [
    "Each time we perform forward and backpropagation, the gradient will be accumulated rather than refreshed."
   ]
  },
  {
   "cell_type": "code",
   "execution_count": null,
   "metadata": {
    "colab": {
     "base_uri": "https://localhost:8080/"
    },
    "executionInfo": {
     "elapsed": 36,
     "status": "ok",
     "timestamp": 1624373240666,
     "user": {
      "displayName": "Hung Khoon Tan",
      "photoUrl": "",
      "userId": "06538390365184440233"
     },
     "user_tz": -480
    },
    "id": "j7eTGU06nTw4",
    "outputId": "92c70757-311e-4eec-a722-7e518d25a374"
   },
   "outputs": [
    {
     "name": "stdout",
     "output_type": "stream",
     "text": [
      "Iter 0: tensor([0.0099, 0.0099, 0.0099, 0.0099, 0.0099, 0.0099, 0.0099, 0.0099, 0.0099])\n",
      "Iter 1: tensor([0.0197, 0.0197, 0.0197, 0.0197, 0.0197, 0.0197, 0.0197, 0.0197, 0.0197])\n",
      "Iter 2: tensor([0.0296, 0.0296, 0.0296, 0.0296, 0.0296, 0.0296, 0.0296, 0.0296, 0.0296])\n"
     ]
    }
   ],
   "source": [
    "for i in range(3):\n",
    "    out = forward()  # forward propagation\n",
    "    out.backward()    # backpropagation\n",
    "    print(f'Iter {i}:', Wh.grad.flatten())"
   ]
  },
  {
   "cell_type": "markdown",
   "metadata": {
    "id": "FrLzfWdknTw7"
   },
   "source": [
    "To **refresh** the gradient in each iteration without accummulating, we need to reset the gradients to zero. This is done through the following command:\n",
    "\n",
    "`Wh.grad.zero_()`\n",
    "\n",
    "In the following, we reset the gradients to zero each time before forward and backward propagation. Since the input to the network remains unchanged for all iterations, as expected, we get the same gradient in all iterations."
   ]
  },
  {
   "cell_type": "code",
   "execution_count": null,
   "metadata": {
    "colab": {
     "base_uri": "https://localhost:8080/"
    },
    "executionInfo": {
     "elapsed": 32,
     "status": "ok",
     "timestamp": 1624373240667,
     "user": {
      "displayName": "Hung Khoon Tan",
      "photoUrl": "",
      "userId": "06538390365184440233"
     },
     "user_tz": -480
    },
    "id": "y_tOdiuGnTw8",
    "outputId": "845e4596-ef16-49d6-df24-8213730f30fb"
   },
   "outputs": [
    {
     "name": "stdout",
     "output_type": "stream",
     "text": [
      "Iter 0 : tensor([0.0099, 0.0099, 0.0099, 0.0099, 0.0099, 0.0099, 0.0099, 0.0099, 0.0099])\n",
      "Iter 1 : tensor([0.0099, 0.0099, 0.0099, 0.0099, 0.0099, 0.0099, 0.0099, 0.0099, 0.0099])\n",
      "Iter 2 : tensor([0.0099, 0.0099, 0.0099, 0.0099, 0.0099, 0.0099, 0.0099, 0.0099, 0.0099])\n"
     ]
    }
   ],
   "source": [
    "for i in range(3):\n",
    "    Wh.grad.zero_()\n",
    "    out = forward()\n",
    "    out.backward()\n",
    "    print('Iter', i, ':', Wh.grad.flatten())"
   ]
  },
  {
   "cell_type": "markdown",
   "metadata": {
    "id": "IhsvPFBJnTw9"
   },
   "source": [
    "---\n",
    "### D. Explicit assignment creates additional node\n",
    "\n",
    "Remember that the operations in PyTorch is creating a computational graph. Hence, when you update a variable, it is not as simple as replacing the variable itself.\n",
    "\n",
    "1. $y = x_1*w_1$\n",
    "2. $y = y*w_2$\n",
    "3. $out = y^2$\n",
    "\n",
    "Rather than **replacing** the content of y, it actually creates a **new node** in the computational graph as shown below:\n",
    "\n",
    "![image.png](data:image/png;base64,iVBORw0KGgoAAAANSUhEUgAAAoQAAAHoCAYAAADQaf7zAAAgAElEQVR4AezdB3gc5YH/8b3kLu2SS0IKJJeDAJeEJP8caRcSHWmQQrOx5U4ngAgttIDBYNzlhpHcbVxw773I3di4F7lbLnKRLVu23CSrWvX3f96RRl6ttdJK2h3N7n7nefTs7uzuzDufd2B/ft953/GIBQEEEEAAAQQQQCCqBTxRffQcPAIIIIAAAggggIAIhJwECCCAAAIIIIBAlAsQCKP8BODwEUAAAQQQQAABAiHnAAIIIIAAAgggEOUCBMIoPwE4fAQQQAABBBBAgEDIOYAAAggggAACCES5AIEwyk8ADh8BBBBAAAEEECAQcg4ggAACCCCAAAJRLkAgjPITgMNHAAEEEEAAAQQIhJwDCCCAAAIIIIBAlAsQCKP8BODwEUAAAQQQQAABAiHnAAIIIIAAAgggEOUCBMIoPwE4fAQQQAABBBBAgEDIOYAAAggggAACCES5AIEwyk8ADh8BBBBAAAEEECAQcg4ggAACCCCAAAJRLkAgjPITgMNHAAEEEEAAAQQIhJwDCCCAAAIIIIBAlAsQCKP8BODwEUAAAQQQQAABAiHnAAIIIIAAAgggEOUCBMIoPwE4fAQQQAABBBBAgEDIOYBAUwmkJirG45HHE6ekpioD+0UAAQQQQEASgZDTAIEmEEhNjJHHCoMEwibgZ5cIIIAAAj4CBEIfEF4iEGqBpDgTAj2KSUxSYgyBMNTebB8BBBBAoG4BAmHdRnwCgSoBu2UvzrePNynOCnn+1sckplZuI0lxHo8qPpdKIKyS5QkCCCCAQFMKEAibUp99h5+Afd2fT/KzW/08PusrAmSMqvJgtSMOXSAsLi3X2PUZSsnIq7ZHXiCAAAIIIFCTAIGwJhXWIeBXoDLExSTKbvOTKtbFxMTIU8P66uu8Nxy6QLjxSLYeHrXf+ntl2mFN25qp01lXvHfOcwQQQAABBKoECIRVFDxBIDCBa1r9rFbDOCVZj96tgRXdw1e7i323H7pA2HfJiapAaAdD89hl/jGtTLmk/KJS38LwGgEEEEAgigUIhFFc+Rx6AwUqu42reofN9YNWy6D39YGSrOsKvQOi7/5CFwhTMwusLuNnxh+sMRiacDhk9SmZlkQWBBBAAAEECIScAwjUW6Ai+NnXC1rXD1amQ+/nFS2Jtc0xGLpA6H1IJvSZ8OfdUuj93IRGc72hCZEsCCCAAALRKUAgjM5656gbKVAxiMSEvYpQZ7cWWiHQai2sDHv2GzXuz5lAaO/adBOb7mLTbewdCL2fm+sNZyef07mcYvtrPCKAAAIIRIEAgTAKKplDDIGA3R2cZO424tUtXHUdoU/3cY1FcDYQehfBBD4T/EwA9A6E3s97LkrT2kNZXG/oDcdzBBBAIEIFCIQRWrEcVqgFKgeM+BlZbI04rvOWdE0XCL11zNQ0I9eelr/rDZ8Ym2J1OW87nuP9NZ4jgAACCESQAIEwgiqTQ3FWwN/cg/7WV5Su8vrDqtvWVdy1pOo2drV2MYf2+MzcheZ6w4QVJ/22Gj4/6ZB1vWHahcLQFoatI4AAAgg4KkAgdJSbnSEQHgLZBSXW9Yad5hz1Gw7fmHlES/ZekPksCwIIIIBAeAsQCMO7/ig9AiEXMBNam4mta7ve0Mx7aK43NK2M/hZz3WJt7/v7Xm3rL+YUaGdqhsYtTbb+uk1Yo2cTFlT76zR6ZdX7Ww6k68zF3No2yXsIIIBAVAoQCKOy2jloBBomYF9vaK4r9B6AYj836831iLvTrw1dJlSa4NjYUJh66oImr9ylJ/vN1X1vTVRs99lqHr/U+mvZf41aJ26q9hc7YG3V+616zNUD70xR2+4zNHLhNu1Py2wYBN9CAAEEIkyAQBhhFcrhIOCEgAl1pkXQ3x1RTEA01xtO3HS26pZ55rVZb65RrO+SW1CkUYu3q1mniWrRZYZaxC9Vm0Gbawyldjit7bHd0O1q3nu5WnadqXs6jtcHszbKtDayIIAAAtEqQCCM1prnuBEIkoC5htBcS2iuKfQXwnzfM62IgSxFJaUat2yHHuw8Ra36Llf74bv87sPfvuta32HEHsX2W6lm704hGAZSKXwGAQQiUoBAGJHVykEh0DQC5npD0ypotwbWFsbM3VFqW6at3qMWnaeqTd9lMqGttm0F472HPtxrBcOWXaZbrZEmjLIggAAC0SJAIIyWmuY4EXBYwFxHaFoC/V1vaEKcmRzbdzHdw2ZgSOs+S0LSIlhXeDTh07RGPtZnrk5kZvkWj9cIIIBARAoQCCOyWjkoBNwjYK41rC2ELdh1vqqwZsBIu54zrUEhtX3HiffaDt6qtj1ma82u41Xl4wkCCCAQqQIEwkitWY4LAZcI1DbwxA52qZkFmrl2n1p3n6X2w3bUGiDt7zjxaFoL28TP15B5W1yiSTEQQACB0AgQCEPjylYRQECyJq02k1ub+yKb7mPTRWwGoJjpa0wItJdhC7apXd8lMtfxORH06ruPVv1WqPO4j+3i8ogAAghEnACBMOKqlANCILwE5m84qHZ9F7syCHoHxzb9V+n9GRvDC5fSIoAAAgEKEAgDhOJjCCAQfIEN+0+qfe8Frm0Z9A6E5rlpxTRd2ywIIIBApAkQCCOtRjkeBMJEwBpA0muOI1PK+Aa7xrxu3XOuTJBlQQABBCJJgEDostosV7nKSspV7v+WsPUucWF+icrK6vpamUqLS1V8JYg7rmuXvB+1AuauIA/Fz3HVAJJAQ6IZaGJGHzMlTdSevhw4AhEpEORAWKLi/MvKzsxQ+rGjOnbokE5nXlK+Pb9raY6yM9J06NBRpZ65rMtFLgkfZcW6kpetrLPpVrmPHD2jcznFsostFSj//FGl7tunvftPKyPritd7QTwvyi7pYtpOLVu0Sev2nNGlOkNcTfsuUmHOBZ09cVjH923W+m37teVwnq6UVFqXX1FhVpr2703Wlv3pOnlZKi8vlXJStHPlPE2dsVLrjl3UpZKats06BIIjED9lnVq9vzok1w3uO50n8zdjW2ZItm+CY6uEDXpp8OLgYLAVBBBAwAUCQQyE5VL5RZ3b94lWjuqjrk80U/Of/URPvjVc809JVr64vFFJ8Y/qd3fcpV++PUPTDl9xAUG5ygrP6cTOVUr6sLM6P9lGzf/0vDp+uFm7iiuLd36dVg9+WG1+fYduvzNeAxanKTsUJS/Yrd3j3tFddzylh3qu0o7CBuykLF2H14zUgCfu0gM/uU1/eKqPPthcqFw7XOYd0P5pr+n+3/9cP3/6A41OkUpLi6UDo9TviZ/qpp/8Xnf2WaYV6fYXGlAGvoJALQKmq9jcjzjQFrn6fM6EQHsxobA+363vZ1v1mqd1e9Ls3fGIAAIIhLVAEAOhcchTbkaqDnwySZNe+aN+/mmPPv+zx/XYykvKNs1thYe14YNW+v0t/yHPPV31xqpr71LgrZl/Yo0+HvS4Xn2ivdq3r8/fU3rq+dGalXxOF7w36Od5eXGuLp48qH3rpmhy5xa656vf0k23d1THhSk6eXGnVswYo4R/Pqc3X3pBj7w8RdM3ntXVCTP8bDSQ1eVZOndgi9YsWKlNRy+rUEd0YERH3fXvj+jhjhu0X4XKSluvlYs3af2uc4HtszxLmZsS9EGzL+hrnn/Vf93XXx8eLpUdvUtOztHsV76nr3q+pOubJ+ijNKnMtBCe3axFPe7WH35xva6L+1BDd+QHcgR8BoF6C1h3IUncFLSwNnZdRrVt2QVafeBStfX1DXx1fb7d0O3q0GuWuMWdLc4jAgiEs0CQA6FNcVG56/vo1R9+U5++sbl+MWa/ThRVvJe3daDGvfpL/fwfQ9Vj3UX7CzU+5qQmaeF7f9FDf75Td95Zn797dF9sX43ZmKGzNW7Z38pSlRybo+kP/0g3f/mHuvlPz+nNvj30zz6zNWHRbp3KuqRTWQXKL7zamexvSwGtLz+tI8uHqMcjbfXYc/00+uOVWrlgprr/aZjGJS7W+h0faeBbf9Mjjw5Q4pwjql3r6h6LU0ZpyjPX6zvf/p3ufnuVthdKFR3GRbq4pqd6//Er+vrX/qJmvdZpt50UJZXvGaGZPe/Wne9N0dBtBMKrojwLloBpUTMta3WFrUDfN62AxaVl8g5/dlkX77lg7ce0Gl4uKLH+At1uoJ8zt9cz91xmQQABBMJdIESBsFB5ByZo8M9v0jevu1u/+GCzUiqb1C5vm6CF8R30zqR1Wnqy9msIy64UKPdchs6eOqVT9fzLOHte2UUlFV3V9amlwlPKmPu8HvnfL+pTn/66vvjLl/Tu3FQd9XtNXZnKivKUm3tZ53OuqKC49mOqXpRsZe6ertGvt1eLO1voyXd7qe/kqXrjiREa07e/xgx5QY89+KiefHmcZm3N1OXqX/bzqlCnFr+jLr+9Ttf/+mk9OeWgztifLDuo5EFt1fqbX9YXf/GSXpp3RFdvGibpwBStHf20nh6zTrMOX+0yLi8t0pWcLOVmZyu/qDQ010/aZeQxogXadp8h07IWaOCq63PeWKmZ+dZ2Tfgzi2k53Hgk2wqM9ufM67q2WZ/32w/fpWadJtqb5xEBBBAIW4EQBcJS5afN0bg/3qqbvxSjn76zVttzzf+kTyp51lj1e2Wg5m5J1zn7Gj1X8RVIR8Yp8b4b9aV/u1Gfe2K8ph8u8B+CirJ1MXmqxo3qq6dGb9LKI/XpTC5VScEFZR5P0Z6t27Vj+VgNe/sp/ey2hxX78ljN3b5fu3em6ODRTF3ML/FfBm+/8sPaMqCDWl//Td0a20/9t2RXhuJy6fBYDXnsu/rqF6/XN9oP1cgdOdW2eemTj7Sk/7MasGyftmTZGy1WfvpmrR7aS8N7DNbCfRfq2epqb4fHaBcwo3Kbd54W1EC240SO9Y8U29aEQfOPFrNkZF9t/jatiHZgrE/gC+Szsd1na2dqhl0EHhFAAIGwFAhRIJQKz67UnL/dpp985kf6cYfFWn42TzmHJ2rWgB56a9Au7Tlz9X/W7pK7ImVM0bAHbtG//8vNuu7eqZp5MK+yy9W7pCUqL89TzqWT2jvuWT3f4Zf6+isz9OGu+gRCqbw0T5eOblbynOGaMbKj/vn6C/q/O+L0+OPvafDkyZr48VZtOZmrQr8tlN5lKpcurNSkF3+tW758g371ymzNP1HZ0leWpn0DHlLsTR55rvuBftN1lVadtlszzWcytHnyKA14uZ8W7MnQ+TKpvKRMxdmnlLVtjLq2fEC//uVz6rcqQ6e8d8lzBAIUGLskWS37LAtqILQDm+kyPp977b8wTTg0odH+XCgeW/Rbpb5T1wWowMcQQAABdwqELBCWZiVrXa8f67df/LZ+8JvBGr9pixaO66HEfgM1/XChLgQQcK5cSNXBlRM0a/wYjRk7VmMD/BszZqImTV+r5PQc5dbTvbz4rNIWv6/+rX6qm75+gz7/H0/o3fk+XavWNotVXnZZl7JPK3lYBz37wI36xpvTNSrl2h8l/0XI0/mU+Zrydgc9/Ze79Uyn1/TOh2P1z0eHacQbnZXQ+1G1fvJverzzTM3fdlF1X9VXouIdA9StxfX6wg0/U6tB27TT5NPSXOXvHKz+939H3/L8q770X830/JRUHajKrqUqPTVd04YM1Jt9tmn32YrhzWXFpSo6f1T524fq+b+20HXfe0N9Vp6t3s3s/+B4B4FqAsHuLvYNd77dw2bn5hpD30Envt9r7Otw7TZOTYyRx+NRTGJqtXqyX9T1vv05HhFAIDIEQhYIlXdUB8bcoQdv/bJuvPUhvdK7h57tN0H9Z+7ROdP6FIDf5QOzNOOl/6e7f3yzbr65Pn8/1c9+00mJq9JVZ0eOmQG6vMwqT1nJeZ3evVyj3n5fo7u8ohc7/FRf++p/6a9dF+vj81dUUlygvPxSFVoDZMwRlKmsLFfHJj+hl1rcpG++OV2j99cnEJ7UsdUD1f+px/Tce5O1cNdm7ZwzVC/8pqd6Jn6iLUeSNCP+73r6iT7qM+tA3cdSlquMebF69qef0nU3xqnTwgydV7GKj2/Ruvcf1bP3fFZf+uzX9Y3vvasB6y6pole4XLp8Sodmvqcxo4Zo9I4rOlc5AMiglJflqDx1gt5oHqtv/OAN9V1FIAzg1OUjPgKh6C62g5w9sMTepekeNov9aJ6fuFAY0nkJw7LbODVRMR6PPDGJujYSpioxxiOPJ0Z+8qLNzSMCCESIQOgCYeFZnZ37qJ769Wf02c98Rzf8Nk5PfbRN6+tx4WBx9nEd3zxXS+fO1MyZ9fmbr/mLkrU/I7/OqVrKLmcq6+B27T+Rqi2rpmne+53VZegKrd23UesS2unPX/yivvqbTnp13Fxt2rxAs7edUcrVqc5kJq0+Oe0p/aPlzbq+3oEwT7lnD+lg8k7tOX5ZOTl7tG/Ey/rlDW3UrNNqbS/MV/bxPdq9LUX7T2bX3UJYckp7hv9Osd/8rK6/pY8Gbs5VzqX1Sp41UD36DlW/t36lv9z2n/rm9/tpaHK+rOhaeELnNn6k0YM/1Jgl+3SySNWuK5QKpWOT9VbLVrr+NgJhhPx37/hhzN+Qotj4pKB33XofiOkeNiOL7a5jExjt5/bngj2oxA6lzXsv18iF2+zdhMmjHfo8ikvyKXJSnNV66LnmDZ/P8RIBBCJGIHSBsOSicj9+R3G/+Yo8//J9fbf9GE3el1VnQHNWtlz5h5K07N02euTRx9TsiTfVs89ozTPXI6lI+RuG6oPf/ae+9Kn/1nd//5x6T5ij2XsvKK1qwIUpbb7Spv6tgYHQ52iLD+rAvEQ93v5dvT1yk1Lr09hoNlV2XumzntKzt31On/H8Rn98JlEDPxqtCdPnauq2U9q3dYiGPfI/+sF1v9Sfn+mqboljNXHceM2eOUmT16RqZ40XB+ZLRyepYwsCoU9t8bIeAuOWJqt5/NKgB0I78JkBJHY4s1sG7WlnzDWEZjHr7c8E+7Fl/zXqNmFNPUQa99HZyeeUkpHXuI1IsruFfYNfUpxpHawhKDZ6j2wAAQTcKhC6QFiepbwVb+q5v8bopt93U98VZ3U2gOsGnYUqU+7hRZrf8UE1v+sB/fXlMZq4+VzFJNqmIFkp2j3lZb1031/04EP9NHLVaZ21u1OrChrEQKhc5WQeU/KmAzpy4lL9p8xRmXR8geb2aqP7/y9Gdz3wvF5JXKolB3NV8dNxUikzuurdVjG6v1kbxT76qt6OH6cpG0/ppN8xPgTCqqrmSYMFTFgyoSnYQcxsz7fVzy6kHQjNZ8xchN5zFQa7HK0TN8lMuO3U0nNRmmVpHhsXDJMUZ7qNPXG62khY0zqnjoz9IIBAUwkEPRBWXBtYrtJLB7Rn9LPq+EZH/XPaER2t+Ed6Ux2n3/2WFZkQlq6TaSd1MvOycqoFPjMtzEVdzEhXRsYlZReU13DtYzADYbnKy8tVVlpmPfotdG1vlBaqIPusMtLTdOJkhs5czFe+VxAvLchS1pk0pZ88qZPpGTp7PluXC8tNlPSzEAj9wLC6HgLmvr/m/r/BDmK+2zMDSOwl1KOLvfdt5lY0g2acWuxAaJehMcHwmtZAuoudqkb2g4CrBIIWCMsKsnXxyDZt33tU+/ds0q6FPfWPV97UayNXa2dgMyq7CibwwgQzEAa+V+c+SSB0zjpy9/Rw/Gy1Hbw15IHQtATaXca+LYd2eArFY4cRexTbd0XIj6+usjcoGPoEwGsCYuSelhwZAgh4CQQtEF45vUlr+rXQ4y1a6YF2j+qVjq8pbvByzdp9uYZWNa8ShP3TK0qf8bRebX2Lbnh7lsYeCNJt7VzjUiilTdXbse10ww/f0vtrzgV8Cz3XHAIFaXIBczcPMz1LXYEmnN9vHh+aORYbYpKw4mTVBN11V753F3Hl8xpHHte9JT6BAALhKxC0QFiQ/rGWvnenWtx+m277vzZ6JmGF1qVfacB1cGGGWXJBB0a10eN/+Lq+EDdGA5Pza+l+DbNjM8UtzVbRnmF64a4/6AvfidO7C07olFcXdBgeEUVuAoFQz0HYkNAUzO889OFeteizvMkD7zPjD8oMOLHv1hJoVduDS2Jiap+bMNDt8TkEEAg/gaAFwrKibGWf2K09W7ZqS/IhHc8sULXL8cLPJoASl0nZe7WubzM1v/3b+mqrAYpffcZM1BI5S/5pnVneVX+784f6ys1t9NK4vUqJ6EsAIqfq3HQkZsCFGXgRzBDmpm21H7ZDLd+b6hi57zWEDQ2CVQW25yS0Bpgw92CVC08QiCKBoAXCKDLzOtRyqTBTp5KXaMmMKZq4dKeS03Mjq1W0OFc5x7fo4/lTNWH6Mq1LOa8Lfkcke9HwFAEvgVCOMnZDMGyqUcaNDoJVdXR1TsKaJ6qu+iBPEEAgQgUIhBFasRwWAm4SMJM2m8mb3RDeQlGG2AFr1Wn0SsfIzTWCDekarq2ADCapTYf3EIh8AQJh5NcxR4hAkwvMXLNXLXsvidhA+GCfFRo4e1OTOze8AN4DSxq+Fb6JAALhK0AgDN+6o+QIhI3AztQMmfv9hqJ1zg3bbNVrgVbtOBo29eFbUHtQie8dS3w/x2sEEIhcAQJh5NYtR4aAqwQideoZM8L4no7jVVQSrlNO2dcPMpjEVf/BUBgEHBYgEDoMzu4QiFaBvlPXqUW/VRHXSuj09YPRev5w3AggEFoBAmFofdk6AghUCkRqt3G4dxdzgiKAAAJGgEDIeYAAAo4JRFq3cfh3FztW9ewIAQRcLkAgdHkFUTwEIklg3LIdatPXPbd4a+yAlNh+K/XBrI2RVEUcCwIIRKkAgTBKK57DRqApBMzAixadp0bEfY1N62Czd6foYk5BU1CyTwQQQCCoAgTCoHKyMQQQqEtg3Z40teo1L+wHl7Tus0TTVu+p63B5HwEEEAgLAQJhWFQThUQgsgSe7DdXbQZtDttQaO5d3Lrb9DCeaiayzieOBgEEGi9AIGy8IVtAAIF6CqSeuqAWXWaEbSA0LZympZMFAQQQiBQBAmGk1CTHgUCYCcxcu0/t+obf7ezavr9SA+dsCTNtiosAAgjULkAgrN2HdxFAoBEC2QUlOpdT7HcLJliZgNXY0b5Ofb9twnq9Nnyp3+PhDQQQQCBcBQiE4VpzlBuBMBBIzSywwt4z4w+q56I0TduaqY1HsnU660pV6d8atUJtPvjE9aHQXPP49IAFXDdYVXM8QQCBSBIgEEZSbXIsCLhQwITBmlrwnhibYoXEyZvP6u+Dlsm0vtX0OTesM2Hwofg5TDHjwvOLIiGAQHAECITBcWQrCCBQg0DahUJ1mnO01qC3YNd55RYUWV2xbfstrfWzTREO2w742GoZPHMxt4YjZBUCCCAQGQIEwsioR44CAVcImGsG1x7K0si1p/X8pEO1hjvTQmg+671MXrVbsd1nu2LiajPxdJv4Beo56RO6ib0riecIIBCRAgTCiKxWDgoB5wR2p+dq4qazdbYEerfumTBovlfTsjM1Q217zFTsgHW1Bkrv7QX7eevETYrtOkPLtx+pqYisQwABBCJOgEAYcVXKASEQWgHTDbxk7wX1XXKizsBmWgl9WwvNNYVmG7Ut5nZwr49Yas1V2CphQ537CVYgbDt4q1r1mKtnExboRGb11svayst7CCCAQLgLEAjDvQYpf/gKpCYqxuORxxOnJBcfRX27gU1QNIHReySxaUE0oe2VaYdrnYbGl8FMYP3S4MVWN7JptQtW8PPdjhUEze304mdry4F032LwGgEEEIh4AQJhxFcxB+hGgdTEGHmsMOjOQFifbmAzaMRMJ+OvC9j4bzueY3Upm3DZkMV0I5tWu+adp6ll7yUKRquhGTncIr6iFdIEQe480pCa4TsIIBApAgTCSKlJjiNsBJLiTAj0KCYxSYkx7giEDekGNvMJBhrwikvLlV9U2ug6Mt24M9fstVoN//T6WLXqtUDN45fKtB6aP3OPYd/Wv/bDd1W937z3crWKX6T73poocz/lySt3ybRCsiCAAALRLkAgjPYzgOMPjkBSXEWLX5xP52/l+qurkxTn8ajidWqTBcL6dAObgFVTN3Bw4Bq+laKSUq3acVTjliZbrYemBbHle1P1x1dHV/tr1mli1fsjF27Tki2HmU+w4ex8EwEEIlSAQBihFcthOS9Q0fIXo8RUe98V4c8Tk6iqVfZb1qOzgbC+3cDmur/auoGrHQovEEAAAQTCWoBAGNbVR+FdJWAPEqkMgNcGRN/Shj4Qrky5VK/RwGZewEC7gX2PhtcIIIAAAuErQCAM37qj5C4UsAeLxMRUDBqJudpcWENpQx8I7dG9vtfVeXcD1zUFTA0FZxUCCCCAQIQJEAgjrEI5nKYWsENeIINF7M+GbtoZ0+Vrh0EzGphu4KY+P9g/Aggg4E4BAqE764VSha1A5XWD1pQy3tcT1nRAoQ+EZnQv3cA12bMOAQQQQMBbgEDorcFzBBopUHXdYFLlpNNXhxfXsOXQB8IadsoqBBBAAAEErhEgEF5DwgoEGihQOajEvm7Qnm/QfyYkEDZQmq8hgAACCARZgEAYZFA2F60CNYU7u/vY3zWCNX0nWv04bgQQQACBphQgEDalPvuOGAF7dLFva6C93m41lOyQWHG3kqu3r6t87buBiBHiQBBAAAEE3CxAIHRz7VA2BBBAAAEEEEDAAQECoQPI7AIBBBBAAAEEEHCzAIHQzbVD2RBAAAEEEEAAAQcECIQOILMLBBBAAAEEEEDAzQIEQjfXDmVDAAEEEEAAAQQcECAQOoDMLhBAAAEEEEAAATcLEAjdXDuUDQEEEEAAAQQQcECAQOgAMrtAAAEEEEAAAQTcLEAgdHPtUDYEEEAAAQQQQMABAQKhA8jsAgEEEEAAAQQQcLMAgdDNtUPZEEAAAQQQQAABBwQIhA4gswsEEEAAAQQQQMDNAgRCN9cOZUMAAQQQQAABBBwQIBA6gMwuEEAAAQQQQAABNwsQCN1cO5QNAQQQQAABBBBwQIBA6AAyu99prJ8AACAASURBVEAAAQQQQAABBNwsQCB0c+1QNgQQQAABBBBAwAEBAqEDyOwCAQQQQAABBBBwswCB0M21Q9kQQAABBBBAAAEHBAiEDiCzCwQQQAABBBBAwM0CBEI31w5lQwABBBBAAAEEHBAgEDqAzC4QQAABBBBAAAE3CxAI3Vw7lA0BBBBAAAEEEHBAgEDoADK7QAABBBBAAAEE3CxAIHRz7VA2BBBAAAEEEEDAAQECoQPI7AIBBBBAAAEEEHCzAIHQzbVD2RBAAAEEEEAAAQcECIQOILMLBBBAAAEEEEDAzQIEQjfXDmVDAAEEEEAAAQQcECAQOoDMLhBAAAEEEEAAATcLEAjdXDuUDQEEEEAAAQQQcECAQOgAMrtAAAEEEEAAAQTcLEAgdHPtUDYEEEAAAQQQQMABAQKhA8jsAgEEEEAAAQQQcLMAgdDNtUPZEEAAAQQQQAABBwQIhA4gswsEEEAAAQQQQMDNAgRCN9cOZUMAAQQQQAABBBwQIBA6gMwuEEAAAQQQQAABNwsQCN1cO5QNAQQQQAABBBBwQIBA6AAyu0AAAQQQQAABBNwsQCB0c+1QNgQQQAABBBBAwAEBAqEDyOwCAQQQQAABBBBwswCB0M21Q9kQQAABBBBAAAEHBAiEDiCzCwQQQAABBBBAwM0CBEI31w5lQwABBBBAAAEEHBAgEDqAzC4QQAABBBBAAAE3CxAI3Vw7lA0BBBBAAAEEEHBAgEDoADK7QAABBBBAAAEE3CxAIHRz7VA2BBBAAAEEEEDAAQECoQPI7AIBBBBAAAEEEHCzAIHQzbVD2RBAAAEEEEAAAQcECIQOILMLBBBAAAEEEEDAzQIEQjfXDmVDAAEEEEAAAQQcECAQOoDMLhBAAAEEEEAAATcLEAjdXDuUDQEEEEAAAQQQcECAQOgAMrtAAAEEEEAAAQTcLEAgdHPtUDYEEEAAAQQQQMABAQKhA8jsAgEEEEAAAQQQcLMAgdDNtUPZEEAAAQQQQAABBwQIhA4gswsEEEAAAQQQQMDNAgRCN9cOZUMAAQQQQAABBBwQIBA6gMwuEEAAAQQQQAABNwsQCN1cO5QNAQQQQAABBBBwQIBA6AAyu0AAAQQQQAABBNwsQCB0c+1QNgQQQAABBBBAwAEBAqEDyOwCAQQQQAABBBBwswCB0M21Q9kQQAABBBBAAAEHBAiEDiCzCwQQQAABBBBAwM0CBEI31w5lQwABBBBAAAEEHBAgEDqAzC4QQAABBBBAAAE3CxAI3Vw7lA0BBBAIlUBqkhLjYhTj8chj/8XEKTEpNVR7ZLsIIOBiAQKhiyuHoiGAAAIhEUhK9AqCMYqJibkaCj0exSWFZK9sFAEEXCxAIHRx5VA0BBBAICQCSXGKiUtU9cbAVCXG2K2FcSIThkSejSLgWgECoWurhoIhgAACDguk2i2HMUqk59hhfHaHQNMKEAib1p+9I4AAAoELJMVVdO3W0KebmljZ7VvLezF1pTwCYeB1wScRiDABAmGEVSiHgwACkSyQpDhrAMi1XbpJcZXdvTGJ8m3cq3gvgFY/O3B6rt1+JKtybAggIBEIOQsQQACBMBKwg1/1hkA7KJpQ6Bv8Kt+rISj6Hra97TpbEn2/yGsEEAh7AQJh2FchB4AAAtEkUGPXcGXLXlxcRZdytUBnt/pVT5DXktmfo3XwWhvWIBAFAgTCKKhkDhEBBCJIwL7Oz6vFryIkmpbBa1sD7Va/WvOg/T2mnImgE4VDQaB+AgTC+nnxaQQQQKCJBezpYeyu4crXVkC037OvAfR9XVPRr3Y3V2tZrOmjrEMAgYgVIBBGbNVyYAggEKkCdrexFeAqWwztMGe/Z7UI2q2JfpsHkxRXOfeg/f1INeO4EECgdgECYe0+vIsAAgi4T8AOeqZV0L5+0J5J2n4vLknVwuE1R0EYvIaEFQhEsQCBMIorn0NHAIFwFbjaFRxnTTdjdxGb4/F6z2r9837PPl7CoC3BIwIIVAgQCDkTEEAAgTAUsFv/PGZeQp8uYXsgSU3vmUP1ft/cx7jGP59thiERRUYAgXoIEAjrgcVHEUAAAdcI2F3DHo+uuf6vagoZj2rKdd6B0AqN1mTX9n2M/U9w7ZpjpyAIIBB0AQJh0EnZIAIIIIAAAgggEF4CBMLwqi9KiwACCCCAAAIIBF2AQBh0UjaIAAIIIIAAAgiElwCBMLzqi9IigAACCCCAAAJBFyAQBp2UDSKAAAIIIIAAAuElQCAMr/qitAgggAACCCCAQNAFCIRBJ2WDCCCAAAIIIIBAeAkQCMOrvigtAggggAACCCAQdAECYdBJ2SACCCCAAAIIIBBeAgTC8KovSosAAggggAACCARdgEAYdFI2iAACCESHQEpGXnQcKEeJQBQIEAijoJI5RAQQQCDYAtuO5+jhUfs1ZPUpFZeWB3vzbA8BBBwWIBA6DM7uEEAAgXAXOJdTrCfGpliB0ITCLvOPKb+oNNwPi/IjENUCBMKorn4OHgEEEGiYwLStmVWB0ITCN2YekQmKLAggEJ4CBMLwrDdKjQACCDS5wMqUS9VC4fOTDintQmGTl4sCIIBA/QUIhPU34xsIIIAAApUCu9Nzq3Ufm65ks44FAQTCS4BAGF71RWkRQAAB1wmYVsFnxh+s1lpoWg9ZEEAgfAQIhOFTV5QUAQQQcK2AuX7QXEdorie0/8x1hiwIIBAeAgTC8KgnSokAAgi4XsCMNDYjju1AaB5Hrj3NtDSurzkKiIBEIOQsQAABBBAImoCZkzBhxclqobDnojSmpQmaMBtCIDQCBMLQuLJVBBomkJqoGI9HHk+ckhq2Bb6FgCsExq7PqBYKO805yrQ0rqgZCoFAzQIEwppdWIuA4wKpiTHyWGGQQOg4PjsMicCSvReqhcJXph1mWpqQSLNRBBovQCBsvCFbQKDRAklxJgR6FJOYpMQYAmGjQdmAawQ2HsmuNi2NGY3MtDSuqR4KgkCVAIGwioInCDRMwG7Zi/Pt402Ks0Kev/UxiamVO0xSnMejis+lEggbVg18y8UCKRl51aalMXMVrj2U5eISUzQEok+AQBh9dc4RB1vAvu7PJ/nZrX4en/UVATJGVXmwWnkIhNU4eBExAqezrsh0GXuPQJ6dfC5ijo8DQSDcBQiE4V6DlN8FApUhLiZRdpufVLEuJiZGnhrWV1/nfQihC4Rm9Ke50D81s8B7hzxHwDGB7IISmcEl3qHQTEvDggACTS9AIGz6OqAEESBwTauf1WoYpyTr0bs1sKJ7+Gp3se/Bhy4Qmmu57B9i01KzYNd5Rn368vM65AJmrsK+S05UnYvmnDSvzXp7MZNcmxZFFgQQcE6AQOicNXuKZIHKbuOq3mFz/aDVMuh9faAk67pC74DoixK6QOj7I2yHQ7PeXM9lWhBZEHBCwJxrpmXQPgfNo2k5NC2IJhiaO56Y1mwWBBBwToBA6Jw1e4pogYrgZ18vaF0/WJkOvZ9XtCTWNsdg6AKh6So2P7K+95y1f5TNevMjTZdyRJ+orjo4cw2hff6ZR9Nybd/pxAw84R8prqouChPhAgTCCK9gDs85gYpBJCbsVYQ6u7XQCoFWa2Fl2LPfqLFooQuE9u7Mj6zpPvbXYmj/MNOlbIvxGEoB0zrtHQq9n69MuRTKXbNtBBDwEiAQemHwFIFGCdjdwUnmbiNe3cJV1xH6dB/XuLPQB0Lv3ZouOhP8TBed9w+x93O6lL3FeB4KATMvoWkR9D7vzHPTjcyCAALOCBAInXFmL1EhUDlgxM/IYmvEcZ23pHM2EHpXC13K3ho8d1LAtAT6hkH7ddqFQieLwr4QiFoBAmHUVj0HHgoBf3MP+ltfUYbK6w+rbltXcdeSqtvY1drFHPyjCLRL2Vz/ZUaDsiDQGAHTOmiHv5oeGVzSGF2+i0DgAgTCwK34JAJRJxBIl3LPRWmMUo66MyN4B2xaps1lC/6uaWVwSfCs2RICtQkQCGvT4T0EEKgSqKtL2fxwm1HK5jZlLAg0VMC0GE7bmlltAmsGlzRUk+8hELgAgTBwKz6JAAKSNRVIIKOUm6pL+URmlpZsOaxxS5M1cPYmPZuwoNpf36nrrPfmb0hR6qkL1KmLBPanZcrUi6k78/ds4iI9NWiV/jZkTVUdjly4zXpv5pq92pmaoaKSqxNau+hQKAoCYSdAIAy7KqPACLhHIFhdyo29K4UJdiYotO0+Q807T1Or+EVqHr9UD/ZZodaJm6r9tei3ynovNj5JLbrMUMv3plrB0YQLFmcFLuYUWOG90+iVuqfjeLXsOlOmXkzdmT/fujOvm/debr3XsvcSxXafrT+9PlYvDV4sExDNPwZYEECgYQIEwoa58S0EEPARaEyXsrkOceKmsz5brPvlnHX7rUBngp0JCu2Gbq91gEJNgxbaD9thBUcTLpp1mqhxy3bQ6lQ3faM+sW5Pmp7sN1f3vTXRCu+xA9aqw4g99a47uz5bJWyQCYjmHwMm4E9bvYc6bFQN8eVoFCAQRmOtc8wIhFCgvqOUzUhl+4fddDMHspiuxYfjZ6tNnySZQGd/v7GP7YfvUpu+y9S623RtOZAeSFH4TD0ETBA09daq1zy1GbQ5aPXmXe/mfGjdZ4ladCYY1qNq+CgCIhByEiCAQMgEAulSNrcr8/5Br20AgeliNN2Lpmux7eCt1b7nvY3GPjeholWPuVZXJN2QjT89TLi2g2Ao68273k249w6GjT8KtoBAZAsQCCO7fjk6BFwjUFeXsvePubmdme9igtlD8XNkuhe9PxvK56Yrsm2P2dbgBd/y8LpuATPgo+ekT6xw7VQQ9D0f7GD42vClyi0oqrvQfAKBKBUgEEZpxXPYCDSVQCBdymYKGzP9iL2YLmITzILZPewbHPy9Nte2te01T8u3H7GLw2MAAmcu5urpAQvUdsDHjgV4f3Vo1rdNWK92PWcysjyAuuMj0SlAIIzOeueoEXCFgLkLhb8fcTsUmiDWpuecRg068LePQNc/9OFetYlfoDFLdrjCze2FMF3ErbvNDNl1goHWm+/nrOsLu8/Sok2H3E5I+RBwXIBA6Dg5O0QAASNgWgqfGX/QbyA0P+btE9epZY95MoHM98e9KV63779cwxZsowJrEZi/4aDVRdyYUcOhrFsr3PdeTD3WUoe8FZ0CBMLorHeOGoEmFzCTW3eZf0xmyhlzhxMzwnjJ3gvWnU7M3U52HztrtQy6JQzaIcW0FNJ9XPPps2H/SbXuOdcV4d2uL3+P7fou0cy1+2o+ENYiEIUCBMIorHQOGQG3C5iL/831Xk1xzaC/AGGvNwE1tusMJkH2OYnM5OCtu89yTWuuXV+1PZrwakIsCwIIiGlnOAkQQMB9AuZ2c+auFLX9mDfle2YC7A69ZjH5ceWpYwaQmGsG3dpN7O9csbqPe86RGbTEgkC0C9BCGO1nAMePgMsERi7aprb9l7s2DNrhovWANeoy/mOX6TlfHDO1jJnI242tuXZd1fZoQmzLLtNl5rhkQSCaBQiE0Vz7HDsCLhMwP8rN3p0SNt2O5pZ5pqs0mpcPZm1UbL+Vrg/wtYXC2AHr9PqIpdFcjRw7AnQZcw4ggIB7BMItXER7kDBdxS3emxY2Ab62UGjuTMPtCt3z/wJK4rwALYTOm4doj+UqD9GW2SwCTgiEW+ugHS6iuZXQtKqZUGxbhPOjuZPKY33mRux1oamJMfJ4PPLEJCrVz3/QVZ+JS/LzCVZHsgCBsAlqt6wgSznnTupUVrEuFze+AGXnM3U5O1d5ZT7bKi1WWckVFZeXVYTFogIVnD2sk6fP6mw+8dFHi5dNLBBurYN2+InWVkLTmmZa1WyHSHg09z6etnpPE/+XEKLdpyYqxgRCT4wSa0yEqUqMMe97FFPzB0JUMDbrFgEHAmG5ykuzdDF1p7YtnK7xCfFK7N5DM1fvU5p1W8kSKXOblo95X2/1GKpBa47rZK4bwkqRCi8eV+r6ZVo4brgGdnlXo8bM0NYMybr0uDRdaWsna0D3Xnr3o9VaffJKgHVarIvJUzW9/8v6+9iPteBYA+6tWZqjywc/0YYZAzSgV1d1fG+8ZmxJ1/mqQFioSzumau777+i9hIVKOpytEkn5x1dr8WuPKu7xN9V57C4dLpBKAyw1H0MglAJmmpm/vjk+NOFi1eWKoh9PD832R+1X887Tom4aGkdGgjtQd95B1tz3uFmniaE81Ztw23UEvjoDYxMWnV07IuBAICxTeUmmMnas0tKhb+vlP35Xt3z6X/Szp4Zo9AkTR4qkE3M1uN1t+sJ1t+q6V+dq0fHaQlKJ8jP2aP+6hUpauFAL6/X3iTbtOqVzxVJVdvLLXKC8jH1KnjNSw198QHd+yaNv/eBPembhRR0z6arkkHZ/+KT+8J0vyvObfyhu8RkrdNW0udK8c7qQkaYT54rM0erSyn+q64Nf0XdeGKKB+4qkosu6dCJNp87n6rLZdl1LyUVd3DpaIzvcqlu+8O/y/Pxtvbs0XdnW98ql0qPaEv9X3Xv9F/XF38Wr3/oLVvDLSZ2tKQ/erh/+6/f0P38drlmnypVf1754HwEHBFbtOKpWvRaEJrDNOqcMSRk7U0Oz/VH71arPMk1YvtMBKXfswnTv3/fWxJB5VoU0B+qual+j9lvHE9t9tnammjMm8paqLuEauo1rey/yJDiimgQcCISSyktVUpivvMyN2tC/te788uf0qTtf11NrLpk3peIT2jWsjVrd9WN948Wpmnzg6k3try10nk4sfle9HrxFP7r1Ft1yS6B/t+qWW+7XQx3n65Msqe6e2nKru7UwJ12X1n+gt+/4hjxf+blu6rdZ6y+aYhcra9tIDXr4v/XN+55X22nHlHdtYa01eQcXafnoLuo2ZLmWHSzQ2c3xmtrpFnUYOEOzUjJ06pNJGtetlwbN36PkilTnZ0v26mKVZa3RrGfu0E/+7Xpd//BYfbQ3rzLkFklnFmpcux/p5s/fpJuem6V5RwutL5YVn9bF9YPU8af3q/mdfTTlSKlypIrjzMtRbs5lZefkK6+oNIDAbJeFRwQaL9Btwhq17L8maAFj6HFJWZc1f9Z+PVwtVKRq/nHTmn9ZQysDgG8gaMhrM2eiaTGLlsWEXxOCG2JV13ecrjvf8rTot0p9p66LzKr02wp4tfWQywcjs+oDOSpnAmFVSS7q3JKueuE/v6FP//BJPTjreFULVc7KdzTineZqM3yrVqfXFteKdenAKq2ZmKDBiYlKSExUYqB/CRM0c8V+md+DenWV5q3SjDY/142f+5Gue32+kk5VlK88fY22JvxJj3VNULe1OX5DZuGheZrX9R7d/4e7deezo9V/RH8tn/So3l+wTCOHf6D4Dr/Rnx74m14Yt1PbTEaucymRMhYq8aEf65tf+77+GL9e689VdrOX5ShvU3e9FPPv+vy3/lfNhu3Tnmy7C75EKt6iGa3eVucHRmn5hRJd0XkdWztZY957Tq/HddC9j7yiZwYv1aqTV+pnVGeZ+QAC/gXu6Tg+iJMap2qoFfoq9pex85y2S9q+s6Kl0FqbdVlDTVgMYig0Xd6m6zsalif7zVWbQZuD6ldRF01Td97nQVR2G1cFxTgxnCQa/guu+RgdDoT5OrduoHrecoO+clN7NRt3QBet4Q6XtXfK+xrRtasmJF9ShqvmBy2XyrZr+RN36jf/9t/69jPTNDvNFLBY2SmrNKfLPzR46mptPFczsFlbdvmYDq8Zq48+6KJ3+o9R356v6v0379PTfSeoz9DxmjCwm/qPn6f5u88ps6Ixz//GrA3mKX/9u3r2/76mz914n16cmaZj9iWMefu16/179fsbPPrSjx/WuysuKqMqX+epLHe9Rr84VL3fXKl9ly7oxPZFSvqwrxL6vaVubz6jds1/px/+4XHFdl2hjemFsjdbe4F4F4GGC5juOdNN5/2jHJTnsyrChXfnX4YVBEPTddwqfpGWbDnccIgw+aaZauaBd6YEv768w7nDded7vkVyt7GS4q4ZbVzVXUzzYJj8VxiaYjocCIt1cccoJfz6W7r+uvv1l/57daKsQKXnkzQhfpC6xq9WyqViF7ZMpeiTjnfr7n//jr51/2iNO1CgsqKD2jN/uN55dZLmrD3pt7u4otrKVHYlW9ln03R4x8ea3auD4u79nv7v8V7qMnWX9h9J19msAl2p+8JGa3PlV07pwJh71ezWr+tb/9tVQ5NzKq4fLM9V9p5h6nPvt/Vtz/X6778M1NQjRVfLVnJG+Xs+VNc+E9RzVqrSTx3UmhGjNG/2Wh0qLVd5eYEKt/fTq3f/Ujfe+qx6LMlQht24GJrzj60ioMkrd6lF/NLgBwyHQ0VEdzV6nafzN6QoNj4p+PXlokDYvPdyjVy4zeuoI+lpkuKqjTamuziSarcxx+JwICxX3pGZmvjwt3Xrp3+l3z63Rhsyjill9tsaOGC4hq3PU04AfbmlhYXKz87W5cuXlX35svVontf5l52tvMJCq2u3fjknQ3tGNFPbG76sG77fSx+sP6vju6dofv/X1H3qPm07U8dIkMIMnUuepukJb+mpp9/V808/rT7vxeq5vv303Es99c4L3TRwyhptTc+vGMFca42WqzhrnZJe+ol+/q3b9P2npisps7RiWplzW7Q54V79739+Sp/+3B8U03GlknMrp5wx42Ay9yllwkvqPXaWJh3M1aVzB7Vh2Tbt3HPuaggvWK1JT9ylu274k96cclQH6zi0WovKmwgEIDBw9iY92GdFEANG03Q7Rsr0MxuPZKu41P//IcctTVbzUAR4KxA2Td35thCa61nNda1uWkauPa1zOVXdPY0qWlKc1/QydBc3yjKSvuxwIJSKM1Zo+dvf0k8//33dcd8AjV06TT2699agaWt1MN8aYlKHb4EyPhmmUS8/oFbNmumBZs3ULNC/B15Up0GrlZwbyKAS72IUKn1+Gz1/+2f17W8+o3dHT9eICYP0Xo8Ptfx4rrLqaNkrPjJfS/u0UbsHH1Hrt2ZqxKh+mjWsjTpNnKXBI0dpyN9b6NE2z+jt8clKrvMuWAXKPzRJQ/54k37wnT/oz4k7lGL1655V2qpEvfnb7+q/PB59/X+e1N+mHFFGVcC+rPP7l2tkx64aMWeLDhaWq/hKljIvFCg3z/6ff5lUmqz5/3hOj932tBKXn9TJOo7NW4nnCDREINgDSsyPuzUwQVdqHlSSZUoZ3EElZp+RMrDklWmH9fykQ1qy90KNwTAU9eUdyJqi7rz379a6tMsYlGDo1W2cZE9YTXdxQ/73FVHfcTwQll/crh2Jt+v3N35VN373brV4+R09PnSdlqYENLzWzKan02sSNPy5u3Tv3XfprrsC/btbd90Vp9f6r9K2HPmdIsZf7easfVld7/u8vvKl2/WHZo+pXfwk9U46oawiO0z5+6ZUdGyV1k7opd6DFmhZaqHSN/XX8Oe/p9/3nKkp+9KVufkjjevTS0Nm79TOWq5FtPZQdlYXVvXS49//ur72o0f10tJLyi3N0/n9CzV7wBt65p7f6c5P/5t+9KdX1GVrVRpUXvo6rZ36oXonfqxVeyumobm2xMXSqcka07GjHnl0hlYdyQmgxfLarbAGgfoIhHw+u2qjjIM7kMT+kTaP7YftUMv3ptbn0F35WRMI7eMyz9ceshJ0VVlfGrxYrRI2VH3G/mxIHh2qO9+ytxu6XW27z6g6Zjc88S1j44Kh3W1c0VJoJqMmD7qhlpu2DI4HQuUe1tGJbXTvDz4tz6du1Y2xAzRk23ldCLglqlxlxQUqyM1SdlaWsur1l6Pc/GKV1J3hrqmVsl2DlPjwDfJ4vqDP3tRBj43crB0BTuJXXlqs4isFKrxSolIV6+zy99Sz7Q/036+N1qDd+VJZkYoKC1RYVKKSuhxKTytzaWf95YdfkucHLfTkpGTt2bdBixNH6qPBH2re9D765+036vZfPKQnpxzQkYyzOnshVRtnTtTEQWO17MB5nfO3j6LzOrWwk/r06ao355xQek4DoK6RYwUCtQuYH17zA+z7gxe01w5NbvzQh3v1QJfZ6rkozbV/Q1af0uzkc7X+PTP+4DV14R0MH46fLXObt6DVj/e1g77PHao732PpMGKPYvsG8zKG0P1DpKHB0O42tm5n52F0ce3/l4qOd50PhIXHdWr23/WX739bn7nxIf1t1D4dzPWXUFxUCYfGaeBj/6PPfv523f7YBM1IybUmma5/Cct1JWWp1o3rrT7zk7WmvqM2yguUe2i6ere6Uf/11f/Q9b97RE90Gqph07cq+USGLp/bqTXdm+v+739PN/+4uTo88w+92meoBk/6WJ/sOaVLJf7ueZyjK2fXa2J8gvoNTdLmy2Wq5TKi+h8230DAj4C5M4SZ6sP3RzkcX9/fdX5EHIc/exMM730rcurL33Ga9c3jQzPPYm37bMx7JujXa6m6dtAjD82D9aKL1A87HwjzUpU24TG1b/Gw7n1nlTZnBnLXkKbnL9ueoGEv3KM72g1U4upzutSYxrOCHBVdOK3M7CLlNGDQRtmV0zq64kN91PstdeqZqEFT1mrLqSuqmLHmivIOL9WCoX3V483u6pswTCOmL9PHBy6qesdPddP8s7u1ZepwDR6+Sst2VkwGVP0TvEIgNAKmm9V0tzbmx9At3430QJiw4qRadZ0e2hZd31bCJnhtWntb9FkeFuekd+tt/f4LtbuN/d3buH5b49PhLxDyQGi6S4vyc5SdX6wrued0Nnm6xnZ5Sq8nTNesA8WuvSNGaaHpXs5Xbn6hrlzYq7Wj/ql3335HfVec1PHabqQShudESdZRpSTN1LRR87X5eFZVy2fhhYvKy82r9/WWYUhAkZtQIOTXEDoUKEyoje02WykZea79M9cDNqTL2ATBtAsV/+SMlPqq7R8Rbrwe1Le8DQ+Clf+xew0sSW3C//7ZtXsEQh4Ii88f1oEVH2nCjCTNnzlSkxL/L1c0jgAAIABJREFUodjXh2vwqhNy7SVqpYU6v3OekmZP04QZC7R80tt66c139PSgT7Qn6+o0Lu6pxgaWpLxEJYVHtXlcPw3p1ENj1hzRgazLys3P1ZnjR7R+/sfadyit6m4yDdwLX0OgVoFOo1cqdsDasGiN8f1R9n5t7txh7uAR7osJGvZxeQdB+7hCPcrY3ndTPrpxxLjt0eggaFXk1bkHYxKJg/a5He2PIQ+El1NmavKzt+qOH9ym78c00xPvDVXCyuNKveTe6wbLi9K1a2RbPfWrW3TTj36lvz7+qjqO/0TLjuT5vT1dOJ5IJdl7tP2jp/Xw727TrT//s1q88KZe7dRRrz33sF58+QW9PnS1Nhy7HFHHHI71FOllNveNNZM62z944fpoRt6aEbjhvpjAUVMQtI/LTNhsJm4O13oKpNzmHyjmHypuWoITBCuPqOr6QbqL3VTHTV2WkAfC/JOfaHXio3qxfRu1eamfhq9I09kGXDfnJFR5SaaOJsXrg2fbqc3DcfrnsFXaVHn/YifLEep9leSkaPf0Lur2zj/01Du91a1nd/Xq2V1d3n5R3frE68N16TqeF+pSsP1oFwjtRMehG93pGyzcOJlxQ86tuiY/nrlmr1r2XhLRgdBMlG4mTI/UpepWdTGJon0wUmu5/scV8kBohoyUlVxRXm6hCgqvzotX/6I6/I2yYl3JL1ReXpFK3duY2XiUcq9Rx+a511/jN84WEKhbYN2eNLXqNS/sA4YJSSYsRfqyPy1TLbvODPv68g303q9b9VqgVTuORnpVcnwIVBNwIBBW2x8vEEAAgWoCRSWluqfjeJmRnd4/yuH2/IF3pujMxQgbcVatpq6+iKSR4b7nmTkPzflozksWBKJJgEAYTbXNsSLgUgFH734RglHHbryzRSiretj8rWrZNzKvI3Tj9YOhrEu2jYAtQCC0JXhEAIEmE5i/IUWx8Ulh20JowpEJSdGypJ66oBZdZoRtffm2Cnq/prs4Ws5ijtNXgEDoK8JrBBBwXMB0tZouV+8f5nB6Htt9tnamZjju1pQ7DPktB0PQklvXOUV3cVOeUey7qQUIhE1dA+wfAQQsgXDtNrbu6xs/O+pqcdrqPWrdJ7JGG8f2W6kPZm2MurrkgBEwAgRCzgMEEHCFQLh2Q5oR0makdDQuD8fPlhWIm6A1r67Wvvq+32HEHrXsMl0XcwqisSo5ZgQIhJwDCCDgHoHXRyxV7IB1YdN1HK2tg/YZEylTBpnwaFo7TasnCwLRKkALYbTWPMeNgAsFwq2VMJpbB+3TJ9xCfE0thybYP9ZnLlPN2JXKY1QKEAijsto5aATcKxAuASPaWwftM8iE+NbdZ4X1PJKteszVlgPp9iHxiEBUChAIo7LaOWgE3CtgruF6KH6O2g/b4dquYzMaNbbrDJ3IzHIvpIMlW779iNrEL3BtfdXUKmiva99/ucYs2eGgFrtCwJ0CBEJ31gulQiDiBXan52rtoSzVdO9cc3u0Nj3nuLbVyYQfE4JYrgpMXrVbbfstDatQ2Kb/Kr0/g1HFV2uRZ9EsQCCM5trn2BFoQgETBu1WmucnHVLCipNasOu8UjMrRnm6NWAQIvyfNCZcGR+7Xt382DZhvV4bvtT/wfAOAlEmQCCMsgrncBFwi4BpGawtMPRclKaXxm5V2w/W1Pq52rYR7PdaJWzQ0wMWMPiglpPorVEr1HbAx66ps5rOARMGXx66hHqspR55K/oECITRV+ccMQJNKpBdUKKNR7I1cdPZWkPDM+MPKiUjT53HfawOA1bU+tmafvSDva7dB5/o+YGLlVtQ1KR+bt95UUmpek76xLqm0MztF+x6aMz2zLWfplvbtAyacrIggMBVAQLhVQueIYBACAROZ12xrhUcufa03ph5JKCAYD7nfW3hsAXb1K7v4ia7ptAMPDDBlBAR+AlirrFs28M9E1e3H77Lui7VXIrAggAC1woQCK81YQ0CCDRCIO1CoZbsvWBdE2iuDaxvi07fJSeUX3Rt6838DQfVttc8R0cfWyEifgGjUBt4PphR2GZ+v1b9VjRZmDfnn5nsvFXX6TKDlVgQQKBmAQJhzS6sRQCBAAVMt+7s5HMyQe6JsSkBBUBzfeC0rZlW17F3YBy7PqPWve5MzVDrbtPVpu+ykAcME2JMiGA0ca1VUuebplV1yLwtavbuFJl7BZtuW+86D+VzEwRbdJkhM7clXf11VhUfiHIBAmGUnwAcvosEUhMV4/HI44lTkouK5V0U03JnposxYa7L/GMB/bCbawFNWDQjiE149F1emXbY2o5pVQxkMQFj3LIdFQFjwNqAylCf0GEGjjTvPM0KMYSIQGoksM+Y+SU/mLXRkWDoHQTNxNksCCBQtwCBsG4jPoFAyAVSE2PkscKguwKhPQDEtNx1mnM0oPBlAt6Q1ae0MuWSTPdxXYsZXGJCZn0XEzA6jV6pB96Zopa9l6jNoM0Bla+mcGjuOtKyzzIrCL40eDETTte3MurxeTsY3v/2RLXqtUAt+6+R6ZqvqV4CXWdNFD5gnWLjk6zzwbQIEgTrUSl8FAFJBEJOAwSaWCApzoRAj2ISk5QY07SB0AwAMUHODACxW+7q+lE2QdEERjNy2HsgiFOsZy7mauaavXqy31zd99ZEKxSYkNE6cZOs28uN2l8tbLQbut16L3bAWitImkD5cPxsjV2STBB0qtIkqwt31Y6j6jZhjZp1mmh17baIXypTL6buzF9N554J/uY90wrYPH6pzG3n/vzPsVa38PwNKTLnAwsCCNRfgEBYfzO+gUDdAklxFS1+cT6dv5Xrr65OUpzHo4rXqY4HQjMJtD0AxHTt1vQD7LvOvv7PtOrVNPijbpzQfcK0PplQYELGswkLrKD3x1dHy/uvbfcZ1numddEESQJE6OqjPls2LXqTV+6yWn1N3Zk/73qzn5vgb94zrYDjliZzD+L6IPNZBGoRIBDWgsNbCDRGoKLlL0aJqfZWKsKfJyZRVavst6xHZwKhackzoS6QASB1Xf9Xrfi8QAABBBAIWwECYdhWHQV3vYA9SKQyAF4bEH2PwJlAaEYE+7b62a/NNDH1uf7P9wh4jQACCCAQngIEwvCsN0odJgL2YJGYmIpBIzFXmwtrOAJnAuG24zlVgdBMAG2u/zP3FW6K6/9qQGAVAggggEATCBAImwCdXUaTgB3yAhksYn82tNPOmOv+TCh02/V/0XRWcKwIIICA2wQIhG6rEcoTYQKV1w1aU8p4X09Y02E6Ewhr2jPrEEAAAQSiW4BAGN31z9GHWKDqusGkykmnrw4vrmHPBMIaUFiFAAIIIOCAAIHQAWR2EaUClYNK7OsG7fkG/WdCAmGUnikcNgIIINDkAgTCJq8CChCZAjWFO7v72N81gjV9JzJ1OCoEEEAAAXcJEAjdVR+UJkIE7NHFvq2B9nq71VCyQ2LF3Uqu3r6u8rXvBiLEh8NAAAEEEHCXAIHQXfVBaRBAAAEEEEAAAccFCISOk7NDBBBAAAEEEEDAXQIEQnfVB6VBAAEEEEAAAQQcFyAQOk7ODhFAAAEEEEAAAXcJEAjdVR+UBgEEEEAAAQQQcFyAQOg4OTtEAAEEEEAAAQTcJUAgdFd9UBoEEEAAAQQQQMBxAQKh4+TsEAEEEEAAAQQQcJcAgdBd9UFpEEAAAQQQQAABxwUIhI6Ts0MEEEAAAQQQQMBdAgRCd9UHpUEAAQQQQAABBBwXIBA6Ts4OEUAAAQQQQAABdwkQCN1VH5QGAQQQQAABBBBwXIBA6Dg5O0QAAQQQQAABBNwlQCB0V31QGgQQQAABBBBAwHEBAqHj5OwQAQQQQAABBBBwlwCB0F31QWkQQAABBBBAAAHHBQiEjpOzQwQQQAABBBBAwF0CBEJ31QelQQABBBBAAAEEHBcgEDpOzg4RQAABBBBAAAF3CRAI3VUflAYBBBBAAAEEEHBcgEDoODk7RAABBBBAAAEE3CVAIHRXfVAaBBBAAAEEEEDAcQECoePk7BABBBBAAAEEEHCXAIHQXfVBaRBAAAEEEEAAAccFCISOk7NDBBBAAAEEEEDAXQIEQnfVB6VBAAEEEEAAAQQcFyAQOk7ODhFAAAEEEEAAAXcJEAjdVR+UBgEEEEAAAQQQcFyAQOg4OTtEAAEEEEAAAQTcJUAgdFd9UBoEEEAAAQQQQMBxAQKh4+TsEAEEEEAAAQQQcJcAgdBd9UFpEEAAAQQQQAABxwUIhI6Ts0MEEEAAAQQQQMBdAgRCd9UHpUEAAQQQQAABBBwXIBA6Ts4OEUAAAQQQQAABdwkQCN1VH5QGAQQQQAABBBBwXIBA6Dg5O0QAAQQQQAABBNwlQCB0V31QGgQQQAABBBBAwHEBAqHj5OwQAQQQQAABBBBwlwCB0F31QWkQQAABBBBAAAHHBQiEjpOzQwQQQAABBBBAwF0CBEJ31QelQQABBBBAAAEEHBcgEDpOzg4RQAABBBBAAAF3CRAI3VUflAYBBBBAAAEEEHBcgEDoODk7RAABBBBAAAEE3CVAIHRXfVAaBBBAAAEEEEDAcQECoePk7BABBBBAAAEEEHCXAIHQXfVBaRBAAAEEEEAAAccFCISOk7NDBBBAAAEEEEDAXQIEQnfVB6VBAAEEEEAAAQQcFyAQOk7ODhFAAAEEEEAAAXcJEAjdVR+UBgEEEEAAAQQQcFyAQOg4OTtEAAEEEEAAAQTcJUAgdFd9UBoEEEAAAQQQQMBxAQKh4+TsEAEEEEAAAQQQcJcAgdBd9UFpEEAAAQQQQAABxwUIhI6Ts0MEEEAAAQQQQMBdAgRCd9UHpUEAAQQQQAABBBwXIBA6Ts4OEUAAAQQQQAABdwkQCN1VH5QGAQQQQAABBBBwXIBA6Dg5O0QAAQQQQAABBNwlQCB0V31QGgQQQAABBBBAwHEBAqHj5OwQAQQQQAABBBBwlwCB0F31QWkQQAABBBBAAAHHBQiEjpOzQwQQQCA0AqmJMfJ4PNX+4pJCsy+2igACkSVAIIys+uRoEEAgSgWsMBiTqFSv40+KqwiHMYnea70+wFMEEECgUoBAyKmAAAIIRKxAkuJMi6FPUIzYw+XAEECgwQIEwgbT8UUEEEAgeAJ2d+81XbxJcVYXsL/1tbf+pSoxxrQSxome4+DVFVtCIBIFCISRWKscEwIIhJ9AaqJiTGueT/Kzu31911cEyBjV3htMC2H4nQiUGIGmESAQNo07e0UAAQR8BCpb86p171asi4mJ8en2remzPpszLytbF2tvRazhe6xCAIGoEyAQRl2Vc8AIIOBWgWta/axWwzglWY/erYEVLX+1Bz26i91az5QLATcKEAjdWCuUCQEEolOgstu4qtfYtPBZLYYVAbDaeo93QLyWy+5qrvrOtR9hDQIIIFAlQCCsouAJAggg0NQCldf8VaY4K9TV8LyiJdH/QBF7gErtLYhNfazsHwEE3CRAIHRTbVAWBBCIeoGKlj0T9iq6fO0WPivkWa2FlV3B9hs+YnYY9B2E4vMxXiKAAALVBAiE1Th4gQACCDSxgDUQJEaJSWbUsVe3cNV1hD7dx97FrRxEwryD3ig8RwCBQAQIhIEo8RkEEEDAMYHKASN+RhZbI45rmlew8vpDwqBjFcWOEIgoAQJhRFUnB4MAApEgYA8I8e329bfeHHPVez73Mrbvbcz1hJFwZnAMCIROgEAYOlu2jAACCCCAAAIIhIUAgTAsqolCIoAAAggggAACoRMgEIbOli0jgAACCCCAAAJhIUAgDItqopAIIIAAAggggEDoBAiEobNlywgggAACCCCAQFgIEAjDopooJAIIIIAAAgggEDoBAmHobNkyAggggAACCCAQFgIEwrCoJgqJAAIIIIAAAgiEToBAGDpbtowAAggggAACCISFAIEwLKqJQiKAAAIIIIAAAqETIBCGzpYtI4AAAggggAACYSFAIAyLaqKQCCCAgHMCKRl5zu2MPSGAgCsECISuqAYKgQACCLhDYNvxHD08ar+GrD6l4tJydxSKUiCAQMgFCIQhJ2YHCCCAQHgInMsp1hNjU6xAaEJhl/nHlF9UGh6Fp5QIINAoAQJho/j4MgIIIBBZAtO2ZlYFQhMK35h5RCYosiCAQGQLEAgju345OgQQQKDeAitTLlULhc9POqS0C4X13g5fQACB8BEgEIZPXVFSBBBAwDGB3em51bqPTVeyWceCAAKRKUAgjMx65agQQACBRguYVsFnxh+s1lpoWg9ZEEAg8gQIhJFXpxwRAgggEDQBc/2guY7QXE9o/5nrDFkQQCCyBAiEkVWfHA0CCCAQdAEz0tiMOLYDoXkcufY009IEXZoNItB0AgTCprNnzwjUTyA1UTEejzyeOCXV75t8GoFGC5g5CRNWnKwWCnsuSmNamkbLsgEE3CFAIHRHPVAKBGoVSE2MkccKgwTCWqF4M+QCY9dnVAuFneYcZVqakKuzAwRCL0AgDL0xe0CgUQJJcSYEehSTmKTEGAJhozD5clAEluy9UC0UvjLtMNPSBEWWjSDQdAIEwqazZ89RIGC37MX59vEmxVkhz9/6mMTUSp0kxXk8qvhcKoEwCs6ZcDnEjUeyq01LY0YjMy1NuNQe5UTgWgEC4bUmrEEgeAL2dX8+yc9u9fP4rK8IkDGqyoPVShK6QGiuDzNdgamZBdX2yAsEahNIycirNi2Nmatw7aGs2r7Cewgg4FIBAqFLK4ZiRYpAZYiLSZTd5idVrIuJiZGnhvXV13k7hC4QmtYeewSp6f5bsOs814V50/Pcr8DprCsy54x9/pjH2cnn/H6eNxBAwJ0CBEJ31guliiCBa1r9rFbDOCVZj96tgRXdw1e7i30RQhcI+y45Ue0H3f5xN+tNi49pQWRBwJ9AdkGJzOAS+7wxj2ZaGhYEEAgfAQJh+NQVJQ1Xgcpu46reYXP9oNUy6H19oCTrukLvgOh7wKELhKar2HQZ+96Vwv6BN+vNDzxdyr51wmtbwMxV6PsPC/ParLcXM8m1aVFkQQAB9wkQCN1XJ5Qo4gQqgp99vaB1/WBlOvR+XtGSWNscg6ELhDa5aQk03ce+P+x2MDSPdCnbWjz6Cpjzx/zDwft8MS2HpgXRBENzxxPzDw8WBBBwnwCB0H11QokiUKBiEIkJexWhzm4ttEKg1VpYGfbsN2o0CH0g9N6t+RE31xL63rbM+8eeLmVvMZ7bAuYaQu/zxPwjwr7TiRl4wiUIthSPCLhHgEDonrqgJJEsYHcHJ5m7jXh1C1ddR+jTfVyjhbOB0LsIdCl7a/A8EAFz7al3KPR+vjLlUiCb4DMIIOCgAIHQQWx2Fc0ClQNG/IwstkYc13lLuqYLhHbNBdqlbFqIzPViLNEtYOYlNC2C3mHQPDfdyCwIIOAuAQKhu+qD0kSwgL+5B/2tr6CovP6w6rZ1FXctqbqNXa1dzKHFDKRL2dzrllHKoa0HN2/dtAT6hkH7ddqFQjcXPerKduZirnamZmjyyl0atzTZ+us0eqWeTVhwzd/rI5ZWfcZ81nzvRCbzT4b7SUMgDPcapPwIuECgri5l00pkBhuYiYxZokPAtA7a4a+mRwaXNO15sD8tUzPX7JUJfc06TdQD70xRbPfZahG/VM0r/2IHrFXrxE3X/MUOWFf1GfNZ873mnafpno7jZcKiCZUmJLKElwCBMLzqi9Ii4GoBupRdXT2OFs78I8EMSvI3Yp3BJY5Wh7WzVTuOWoHtz/8cq5ZdZ6pl7yUyoa/98F21hveaAn1N6zqM2CMTFk2oNCHxj6+OtloXl2w5rKKSq9MPOX/k7DEQAQJhIEp8BgEE6i0QrC7lYM5bZ7q1zI+T6eYaOHvTNV1hfaeus96bvyFFqacu1PuY+UJ1AdMKZSyN94B5O/XE0A16dOTOqvDxtyFrNHLhNut901plWpXcFhwqpoPy+NxVqPpxVn2mCS/hqF6iq68u5hRo1OLtVitgq14LrMD20Id7q+qgpmAXzHWmhbFV/CI90GmizH9fdC1frRu3PSMQuq1GKA8CESjQmC5lcx3ixE1nG6xigp0JHW27z7C6tcyPk+nmerDPimu6wlr0W2W9FxufpBZdZqjle1Ot4Ej3V2D8JnyYwG26IU33oWmFMpZ2F6Td/dhm4Ga1Hbxd7YYkq3nv5db7VmtV99n60+tj9dLgxVZ3pivCQ+XE8h7v2QGqcdiDvTzyf5ehal9w5IU5Z0093PfWRLXquzxorYANDYum9dD676vzNKt+1+1Jc8SBnQQuQCAM3CosP5l3epvmjRmqhIRB+nDqcu06w4XcYVmREVLo+nYpm5HK9g9Qfe+PO2fdfivQmWBnQke7odurtmVvs67H9sN2WMHRdH+Z66zGLdvhuhYsN5wa5sf9yX5zK8JH/CKrG9IEgLp8/b3fKmGD1Z1prkszoXza6j1N6F5H4KszMDpbQyaUm+v4zDlruoP9GTflelO/rXrNs1roXRH6na0i1+6NQOjaqmlswfKVumSYXmr2Z/3hzjt02/X/Ko/nC/rRvS9q0ubT4uZRjfXl+40VCKRL2Uxo7P3DFcj8daab8uH42WrTJ0km0Hl/vzHPzXVWbfouU+tu07XlQHpjDz8ivm+CoLE2P+5tBm0OmrV3PZk6bN1niVp0brpgWNUlbE0iX73qanuv+idD/8oE55Zdplvdwt6Gbn1uWoxju87QkHlbmjDwh75ewmUPBMJwqal6lvPCnpmKj22hF+NnaeOBVKVsXaoPX/+zrv8Xj77513itySQS1pOUj4dQoK4uZe8fNDONTU2LaRkxXWSmm7Lt4K0hCSemHCagtOox1+r2itbWDROI7SAYSmvvejeB3DsY1nQOhGyd31bAq62HTXn5oLkswrTQGp/GtMx6ezv13FzP2KrfCv6hFbKTN/ANEwgDtwqfTxana8X4Xnq130pd9i514Xb1+euN8vzrX9RnxRmVe7/HcwRcIBBIl7IZnWqmNPFeTDB7KH6Oo11kpturbY/ZUTW9hhnw0XPSJ1YgdioI+gYTOxi+NnypcguKvE+DED6/GvyqXSdYFRRruwd5CIslaf6Gg9b1rqFqofX1D9Vr+x9aA+dsCS0YW/crQCD0SxPGbxRfVMaJQzp4wTfyZWnV47/VdZ+5T/3WZ4bxAVL0aBAw89T5+/HxDoWmi9gEs2B2D/vbr+960xrTttc8Ld9+JOKrxExc/PSABWo74GO/9eLrE8rXbRPWq13Pmc6NBrduP1l9tHFVd3ETNQ+OWbJD7foudkV9BKuu276/Up3HfRzx/z258QAJhG6slZCV6YxmtfyFfvDrV7XkFHNChYyZDTdawLQUPjP+YK0/dOb9KWsOqE3POU3aTWa6vNrEL5D5cY7UxXQRt+42M2TXCTY0TFjXF3afpUWbDjlAb981yL4X+dVWw6bIg6altn3/5bX+N9JQ16b+XrsPPtELgxZzXaEDZ7X3LgiE3hqR/vxMkv7+q7/okZ6rdL4s0g+W4wtngY1HstVl/jGZKWfMHU7MCOMley9YdzoxdzsxgdG0ypnBDE7OqVbbD6X5cR62YFs4s9dYdtMlaa6ZdOu1aVYg773YEXv7NpNWt3ETdRebbvu3Rq1wTUttbf9NNOa9dgM36vmBix28LKDG0z+qVhIIJZVdKVZJcYS3mJXnacOgJ/XEy3207jRpMKr+K4/AgzXdxKZl0C1h0P7hMy2FkdR9vGH/SbXuOTcsWqHa9V2imWv3hfZs9+o2TkqMkXVPcYebB03LWZsPPgmLOrH/u2jooxmF/FifubQUhvasrto6gbD8tBZNW6ot+88pcmNSoTLXDtXL3d7XnL05VZXPEwTCUcAMJDDXjjXFNYN1/bCZgGqm0YiE0cdm5Grr7rNcF7prqwMTXk2IDd1idxt7KsKgxyMn8+DIRdvUNkK7if3Va+sBa9RlPNcUhu6cvrrlKA+EZTox83W17zxYq08UX1WJqGeFOps8XV07D9LUDQ2/20NEkXAwYS3wbMIC6w4j/n5Amnq9mQC7Q69ZYd2qYQaQmGsG3dpN7K+Ore7jnnNkWpBDtdjdxlbroMe50cXmmMyUSv6OPZLXR1rLe6jOzcZuN3oDYflFpSzurwdv/pYe6r5cBY2VdOX3i3Q2ZZH69hutuTuqz92Wd+yEMi/lKMI7yl1ZKxSq4QLh0kISzq0a5ho1M/m2G1tgAwk9JsSayZnNvJQhWaquHfTI41DzoJtbxQOpk8Z+xtSp+QeK+YcKS+gEXB0Iyy6mauvy+Zo6aZYWf7JPGTU04pVeyVdB7nmdPJaibTtPqrDEa6qV8nKVFecpNzdfBXnmy+XKOrpZ8wYlqOtLrfU/XzPN/v+hO1q8op7DFmtXZoj+BxKE+ivJv6QzaQe0d9c2rV+9XPPn7FBGnlcnd1mRzqSs1LTpM7T2YMV/NFm7JuvNp/+hdydu05lTJ5X2/9s7F/AoqrOPD0JRWy2gba1WP7WVXmyLfor1a75aa2nFzwoNiQQpShWtVgtekMqdCCERggFqRbEIIhGI3BMhgRAESgERSBQJCAHCRcJVCBe5hfD/nnd2Z3d2srvZ3czMzmz+8zx55nbmnDO/M7Pzz3ve854dldi5czvKV0/FyMGvoWTTfgRBakJtmQUJmE9APvAdBk1zTRemTJkn3a5uW0bPWoWU7BJXW6JSclao07dZw17rNtZGG1tTij5XibkoYXYaKqzcfL3EWZSwR/IPCxdrCDhTEJ7civmv98fjD3fH8wOzMTIzCy891QV/erwv3lutTbtWg+pd2/HJgvF44a+d0f63d+DBjBIcPesXhOert2DBiD/jkacGIrvkCxk+ggPrP8Brvbrh/267Fi0VBcr32uCelG7o0XM8Pqx07n8fpw/twefrizFxQCpaf68lml90K9IX7vb5PdZWb8b4R65Q/Vp+8tAAzCychL/+rBWaKS3xw9vuxG23tEGbn9+CW2/9KW5scRXuzyrEbk5rbM0sfBGyAAAaJElEQVRbxVwtIeA2oWKtKLEEsWqBSR6S5xrRHU7gyMhoS6YY1A0sqbCmGQJylXuQewl3r43lXEpWIfJXbgrgwx3zCDhOEJ6qXI5RXe7Ed1pdhXv6TEXpIc/NHlncD3d+U0GLNgPxQeVXAGpQve8LbJvbD9+6RCx930Lvgt2o8bG5gKOlk5D2dQVKyx/j6YVf+s4AZ7EmswtuUBRc0z0HZVEaBk/vX4/Zo/ugT5/Y/l4akoF5GwO7cHWVC7pZW1OL2gtnsW/d6+jY8hJV+P1gQCEOef9Zqv1qL5b+sxt+ermCy394M/pPnIO3hmcgM2s4hqYPwZD0dKR7/4ZmTMXKrcc5U0lQ0jzoRAJusw5qH2i3WQlfHL/QNfPgaoxDrWUmFfNHqPpjDwbMWGLhS5NIbRKqrSI9rs6OkzXbQtqNO2tHCcLz1RvwTrfW+JpyKf77b3mo0vWI4tgq9OrwX1CUG9HznU8hklCWo0v+ju9f2QzKpY9iXqVO2V04gbJJPfAtRcHVbXugSO9jfGIDsh5qg4uUFkjLKIJXc3pzrH91tPQNpLbyjzLzOBdHt9916vb6Cwqa4iBmdL4BlygKmnX+Fz7XW/nObcPEp9vj6l8NxDr2BQelx4PuJGCVdXDBBn+XbqQfpWjSuclKaIclymrexraRuX3zPtxg3kPv8x+0p7tY/hG6v18urYMTyn0MZGCNlYOGzHtYzMrJ66Jgg7+qcwTh+Wqsm/wwrmmqoMWPumPKFr+tT8V6dBX+1vFm1TKWMnQuqtSe4ZNYOrgtrmymQOn4L2w+6e8urjmyFmM7tIKitMJt3adit/8Uzpa/iUfuaA7lknZIn7fT1+0aafPVHN+DT5fmIz8/tr+ComJ8tk8nXiMtWE13HqvHtEarZgq+dt1QrDym41T9Cd55ORnJY8th1wyfUVWdiUkgBgLiUN/+pXd9HwTjR78h+zPW+v9TbEg+4a7tODjPFWFo7Bi9bQdvfVvIvMcdBuTG8NQFv8Q3VV3SWNjRXTypaD06jVhkybOv5+Sm7U6jlmHolGXBGyghjzZCQXhq7yIMurU5lCZX45f9F+GkoWHPbnoHXf9HukovRmpGEfbJ+XNlyLrzWlysKLhv3Boc81kUz6FqUQbaNlegtPgx7p24RSf6arFtRk/8+mIFyu1PI3ez3sRmKNShuztmPYKrvt4ETZr/CXnbtPqfwo6CsXjsgZdQfMQHwqF3wGqRQOQElpRuR2pmgWkfxXPna7Fx70lfflKTY6dqfPu7Dp/GoRPnfPsN/VimjliEKcVlkd9wHFJaaYmym7exvVKGzUZZRVUcqDa8SBGzImqN99SY9yW00B/65zaiGUwanSA8hz3FWbhdukGva4v0f2sdwv4Xatv0nvjVFdIt+wv0mbzZYwHb/DaSrrtcPTZmxUFfCJXa6vX4R0orNFEUXP6DJIwp1VnRsA9z+3bAZYqCm3tko9SFcZqPlAzDNS0ugtL8Rxi10nMD5/evxLhn2+O5dyt14tfPj1sk4FYCYg0Qq4AZH8HSXf4XXkTfpBUeoSDbYr0SYagt0r1pRpky24JY35y8iGAV4WrG/erziAdvffmynZy9BCOnr3Ay/qB1ExErYtZ4P9wvR2rWfBSt2RqUW7wPBsapFM1SN1alx9IcxO3AO2BJ6x2um5fHNc0q/1VndBnXVmP1uIdwkaLg221SMU8GBAcslZj21F24QlHQ9PaemFwu9sML2Jb7IG5oqUC5qQ8K92qWsq+w8e1ncMOlAq45vv/LQVijNzceWYUhXVqrg1C6DC2O2n9QqnWh5jSOf3kABw7E9nfw0GGcOBP70Pma0jdx05XNoTS9DAMXHQEuHMPH459HuyfexCb/9yyAIHdIwK0E7uv7rqkBkmWe5K/Oet4/sV7Jtqy1RcShpDHzwytd3tL17dTlsey5kLAeZt6zllc8eGtly9rsbmO72nDmss/Q6ZUiS9pEz8eN238csRj/mL3a9KaoPlWD3NX7IevoF68lL8CdQBuEFCj+IhWEnjo0NgthzWEsy24HRWmKG+8Ygo8M7nVfrZ+ItDYKlCYt0WFoIfaov917MfPPP1dF4tXPzcAerx48VPY++t3bEb/5iQKl2TW4o/9ST9DpWs8P/vH1OXj45iZQmrdDvwLvFEfec5E+AMc25uLpWzxKPZYBJU2vuBbPztsVaXF10l2o+gBPfPcyNFG+ga4zPkfVuil4NvnPmFCmieI6l/AACbiSgJVWkg83HwkQgmIdNMsqaPzIOtmiIcF+Hxg4zXLhYSdvI383dhtzdLF/IImxPa0abXzwuMdV5NFJm6IWhh5rXqDw8/zo1hV0FIThPkcXTmDD5MdxqaLg+l8MDhSE5yvw3uNJuFhpgis6DELRjjOenE6sQu/br0czRUGPaZ4Ru19+MguvD3oB46eOwWMtFDT97s/xdNEXOLZ7E8q2SozBGmx8tyfaKgq+/rsXMW9zFXZvLEflvpNRhWA5uW0+MtNuwS23xPZ326/vxcilqhdkOCqhz53+CMOvvxIXKZfgiscHIr3HA3hoYpku5E7oS3mGBNxEYGrJJ0jOWmi6WNFbrfQ8rLAOysfMyd2WEtdN4rsZP7pm7tvN21j3jq8U460P1uqb2vHbDbLaLjkWeH9HD6K/NlJ31kH4PSqPYZy6fwzj1PMVyD8KrFuiE2NqXtp5Oe5J4y9Af24P1uEM8pdoZZxB/qz6rtGVpdWxnrVVVl9NEGrPT+TC0GsJDLAO+gl5xKK/65iC0M8myNYFHN84Az2uUtD82o6YvM2b5PxBlIx+EDd9owmuu6snpq7zjwhE5Qzc3fpKddRxu2dfw5Txr6LvX7pj3NLPsfODQbhKUXDJd2/Eo4Nz8Nrr4zC7/CxQuwdTX7wfTSUUza9TMDgzE2OmLcSnB3RDkIPUznGHLmzBG+2uUUPPKE1a4I6UCdhY1+3ScdVmhUggWgLSLSTdQ9oPdEPXRiuVDC6RLmOxDspgEm2RY+Jf2NDytOvjGX5GusB26u5Nu0dtPXnhenS0QHTLvceLt8ZdWztxZOpby/dCBEiopdOQ6bFNH6gKPE2IGcWWV8xV7vE+2yLgZNFEXX2CsO75cZUAQuanE4O+NOXoX3YG0IvUegSg1o76dccs831e9fnrt+sXhnWtgPp2NVoPKQj1dIJt1x5H6fReaNf2NnToNRa5ubl4Z1RfJP/mf9H+r6+gZLtB8Rz9CJn33agKQum2/c7POmF0scf5cO/CQWghs5AoLdH6909g4pojnhJrduGd3nd5rvnmTfht7wkoOxisMk4/dhwL+12nWlQv+1k3zNoauz+i0++U9WvcBMwcUCI/8FocPBF8MohEjskilkHZ1gSM+BTqPwgN3Y7nwJLn87aq9zJm8e6gwtBsxnpW8eKtr4Nsx5N/qDdYq2MoYRj7CGOPyKsqq6j7DAcTiwEWwLqCr1vAeaPANIo7T9kBFsZgZU7wWhJV62HdPDU24dZ2CkKtHiIMSzZ59URAw1IQBuAwZ+c8qtYW4M2sQejbty8ysidi/rr9IUbN1qBq1RTk9HkO/YZNxLLtfsfDM1Vr8N7AF9B31PtYt8/vLC4zlHyxaioyX3gBI/PW4kAsfqPm3GgDc6nFf17+Hr598y/x8uK9DcyLl5OAcwlYERtPRJ/2Ay9rWfQCUCyDxjT69LFsP/RGKcTiE49FE4RavY3CsNc/FyB1zMoAJlpaM9ZGlnbwNta7y7h1SBs2Ix74Q5ZprKNRGMZsIVStbZrlT4rXWQuDibuAYxEIQlXgGW7LZ+0LJQgN6b27AcIxSiuh3YJwwJztWFvpj1IQeEdeQcgu40As3LOewOktM/HEXW3x+L/W1onXaH3pLIEE7CMgH3H5mBs/nmbtaxYsuSOz8gyWj8ROSx5RbGkZwcoNd0wTht2yZkN10o/ygxwu71Dn7OJtLL/r+A1IGWme64ExfzP3NWFoWruogs8rCoNZ66IRhF4xqBdygd2/oQShTpSa8JxJe0r0AbMXow+htGt4IeivgbFbWHcGT0qPpRZLRk4Ywst40mojkhXokwLhrY/+chq+5YywMw2/j4TO4cSucny8dA12nwLO7piP3h3uxr29ZqJCxslwIYEEJhB7t1lk3VBiDRQ/Qn2gajM/7vq87LZo6MsOt92+7xTbgh/bydt4z07lb6ynb39EvjmW2wAR6BFsvu5kn7VP8yEsR1ifwDqC0GuJDGch1Aah6HwIffcYozi0yuKrF4SRCkHfz682rWGAlVATef4BJZ70dS2KHkHpiV4SKAhD5eEr2bQNCkLTUFqUUXUp+nX/HW66vjXuSemCP959Nzr0noL1wdwYLKoCsyWBeBFoWLdZZKKwoR+nSK93miB55r0tKPrsMNKGvm+pFTZSPlamc6KFNtT9Shf/8i1HEfO0darFL/CN1Vv0uvlEoKQ5hnEBFkJ5Z7wiT83COArZ6zPoy/4M8suO6QaIBLEQqqLP0xXtu0zLO0ZBaNUgIRGEUQvBgJvSxJsuLF2guvOn1gSkOt5BgRps2nus7iVeAelNW/e8P9uGbFEQNoSeHdee2YPpA9vjekXB166/G0+NKUZFKDcGO+rDMkjARgJW+BCG+hBbedxJPoSaEDx33hNdIVEYh2u/ePIP9boY66sJQS39ig07kZo5z3o3gzqC0Fn/SBk5yb4E7JbA3VzMJUBBaC5PS3K7cGIfKjd+hvJt++kzaAlhZupUAgPeLkFKznLrP4oxWiqCfayCHZNZQCSuXDwWbVCJUQhqdbFylHEwFvE45uRRxkYhqLXL2Zrzqp+cWDctZeZCQSiB1CWgOhdzCVAQmsuTuZEACZhIQOaglaDOln4QLRaDUncZxSujeeOxpOfvULuGNYugsQ4SsFkCN7udcbj6yz8V8s+Fk5ZQQlBfR1uef5cJwni+S/q2ScRtCsJEbFXeEwkkCAErgyaHExBmn7PK58mMZm4Mc+ZaNfetGfzD5VHxxWEkp89IaLEe7bsm3ejSnc7FfAIUhOYzZY4kQAImEbDNj8piK6GTfZ7Kdx5Ap5dnJrToSM0swJJSzxSnJj2atmVjWvgZi5/xaIVdLOllyrrkwdMh3elczCdAQWg+U+ZIAiRgEgHb/Kgs/lg63ecpkUZzG4WG+OBJzDq3ioiiNVuRmjU/oQW7sc1C7XcasUgdfW3SzwuzMRCgIDQA4S4JkICzCFg9k0aoj49Zx62KmWZmK72R/zE6jUxMP0In+g9G03YiZLtmzkr40ED1vW9iHUzLmIkvj/tnJYuGI9PWT4CCsH5GTEECJBBHAvkrNyElq9C1FhIRWiK4nLwksq+am7uLtWdm14GjSHl5BiwfcWyxpbw+0RfufMqw2SirqNKQcG0BAQpCC6AySxIgAfMISHgJ6XIN97Fw8jm3fMisniYwHm3k9u5i/Vs0dcmnSMte6Nr3oCHt33nUErw6Y5UeB7ctIEBBaAFUZkkCJGAuAbd2G6tzBGfNNheGRbnlfbgBD44oSijBkZJdgtGzEkdIuPU9aIgYlHeo+4i5rvUBteh1tSRbCkJLsDJTEiABMwm4tUvTbSEyEmlEa9fxG9Ap/f2E8jkT/7kuGTMhM680RGS55Vppw7SM2ZAucy7WE6AgtJ4xSyABEjCBwIvjFyIlZ4VrPoRusg5qzZMoYX5E8Ii1U6yeibaIOHp4xDyoz5eDff4aKjpF9HbJnAP5Z5CLPQQoCO3hzFJIgAQaSMBtVkK3WQe15nGb8A4mPBK9m1H8ah8blQ+Zki/Y/bv9mIhBEb0Ug9pbac+agtAeziyFBEjABAJuEStutA5qzSMf4QeHzXL1iNbUjLlYs3mPdksJuT5x6iye+ccCpI35T0KJQnl3ugyfybmK4/DUUhDGATqLJAESiI2A+FD9KWuOo32oZGSrhAhxs99T8bpt6JxV4Eqh8dCoYkwsKo3tAXPZVRKjsPebC9F55CJXC3jNopn66oeq5VPELhf7CVAQ2s+cJZIACdRD4NM9J7B8y1EcPH6uTkqZaq3z8DmO/QCKkBJB5fbFjWFOGmt4ksmLSpE8JA+pY1a6UsR3fu0jdfrErGkrQDEYv18OCsL4sWfJJEACIQiIGNSsBs+8twVjFu9GwSeHUHHAM0uBU8VKogkSif0m96S1hZPX0nUq1rLGuohfoRqWJmMuZFYPJ7eVVjcZRdx5RCEey54L+UePS3wJUBDGlz9LJwESCEJALIPaRyPYevj8neg16WOkjV4WNl2wa606JtaZJ3IKEi5eWr8Ji5GWs9QxnIO1n4jB58YVJRz7IK9GvYfEdzJ58HSkjix2rDAUISgxIv84eBrmrCiv956YwB4CFIT2cGYpJEACERCoPlWDVduqkbt6f1gB8pd3P8emqpMYPHkpuuYsDps2mIAw+1iX0f9WHfwTsbtL/NSGv/dv1adQPuRms2tIfuKvKbN3iGVQ6snFQ0BYTFiwDh0G5EKm7nPKaGSZ11umoXxgQK4aMDwR3xc3P4MUhG5uPdadBFxOYO/RM6qv4FvL9+LvM7dFJDYknd638I2CtegyckHcfAplEIMI00QXJOIXKUGCnRL/TrpFxZdU3Ae4hCawpHQ7nhpTgI6D85CcvQR2i3oR7Z1GLVN9BGV6RJmbPNHfldCt4ewzFITObh/WjgQSisDOw6dR9Nlh1SdQfAOjtQ6NLNqFr87WtQTlr/wcaZnzbB19rAqSrIJGM6JVHkQZOS3TiKVmL46bAJdnRgKUp778Pv3Oovh1kLYbOX0F7uv7rirOkrM8gd7N9jcUwSnuEx0l/2Gz1fKGTlnGtoqireKVlIIwXuRZLglEQ6BiLJIUBYryJAqjuS7OaaVbd/b6gxAh9+ikTREJQPEPzPv4gNp1rBeMk/5TFfZuyiqq8ODQ920JwSGCSARJIowmDgs1yEmx7rw+bw06DJqm+oGJBUjfTlZuixBMTp8BiUfJ7sYgjRPhIRnAMbXkE5WjdCuL9TA1a74q4kTMSRez/IUSiyL6tDSyVsVfVqHaNiI4ZXDL5IXrIe8krYERNooDklEQOqARWAUSCEegYmwSFFUMOlsQiuVOwsWImEvP3xGRSBBfQBGLMoJYxKNxeT5vq5qPWBUjWeTjIyE4VLGSszyiOkQjYFTLx+A8VRA1dkEiMSFHz1plizDUC0HOXhHJmxBdGrEeFq3Zqoo4EXPSxSx/IhbveeHtOn8i+rQ0shbxJ13BbJvouDstNQWh01qE9SEBHYHCJ0UEKkgaW4ixSc4ShNoAELHcDZizPSLxJQLv9Q+/QMmmI5Du4/oWGVwiIjPaRcTKgLdL8MDAaej0ShEkzlk0wk+fVnzmOo1YpFpR5GPp5oDT0XKMJL0mDP/Q3zOAQfzFQlmW9FzDbavBvXNWeAYgDJymWrIoNiJpDaYhgdgJUBDGzo5XkkBsBAqf9Fj8njR0/nqP+w8X4klFgWe/Iu6CUAaAiJCTASCa5S7cR13OiVAUwSgjh/UDQWIDF/1VEptt5rLP1Dhn9/fLVQWGCBbp5go2OEJGQcq5lJzlqpAUQdktazYmFa2nEKwHv1hMZQCD+IuJZUm6dj1+ast93YvBnhcR6x7mKzxdlhlz8fs+k1QRKFYnaUMuJEAC1hOgILSeMUsggToEPJa/JIyt0E55xJ+SNBa+Q9opdW2/IJQg0NoAEOnaDfYxNx7T/P/Eqhds8EfALdm8I5YsERgiWKSbS4SesTtMRkHKObEuipCkGIm9kcSiJ35qwlLrXjTyln0JSiznxS9Quh4TfQ7i2InyShKwlgAFobV8mTsJBCegDRLxCsC6AtF4mT2CUCx5IuoiGQBSn/+f8Q64TwIkQAIk4FwCFITObRvWLMEJaINFkpI8g0aS/ObCIHdujyCUEcFGq5+2L2FiovH/C3ITPEQCJEACJOBQAhSEDm0YVqsxENBEXiSDRbS01oadWVt53CcIJQC0+P/JvMLx8P9rDE8A75EESIAEnEKAgtApLcF6NEICXr9BNaSM3p8wGAp7BKH4/YkodJr/XzAiPEYCJEACJGAeAQpC81gyJxKIioDPb7DQG3TaP7w4SD72CMIgBfMQCZAACZBAIyBAQdgIGpm36EAC3kElmt+gFm8wtCakIHRgK7JKJEACJJAwBCgIE6YpeSPuIRBM3Gndx6F8BINd4547Zk1JgARIgAScTYCC0Nntw9olIAFtdLHRGqgd16yGgCYSPbOV+Kev8+4bM0hAVrwlEiABEiABewhQENrDmaWQAAmQAAmQAAmQgGMJUBA6tmlYMRIgARIgARIgARKwhwAFoT2cWQoJkAAJkAAJkAAJOJYABaFjm4YVIwESIAESIAESIAF7CFAQ2sOZpZAACZAACZAACZCAYwlQEDq2aVgxEiABEiABEiABErCHAAWhPZxZCgmQAAmQAAmQAAk4lgAFoWObhhUjARIgARIgARIgAXsIUBDaw5mlkAAJkAAJkAAJkIBjCVAQOrZpWDESIAESIAESIAESsIcABaE9nFkKCZAACZAACZAACTiWAAWhY5uGFSMBEiABEiABEiABewhQENrDmaWQAAmQAAmQAAmQgGMJUBA6tmlYMRIgARIgARIgARKwhwAFoT2cWQoJkAAJkAAJkAAJOJYABaFjm4YVIwESIAESIAESIAF7CFAQ2sOZpZAACZAACZAACZCAYwlQEDq2aVgxEiABEiABEiABErCHAAWhPZxZCgmQAAmQAAmQAAk4lgAFoWObhhUjARIgARIgARIgAXsIUBDaw5mlkAAJkAAJkAAJkIBjCVAQOrZpWDESIAESIAESIAESsIcABaE9nFkKCZAACZAACZAACTiWAAWhY5uGFSMBEiABEiABEiABewhQENrDmaWQAAmQAAmQAAmQgGMJUBA6tmlYMRIgARIgARIgARKwhwAFoT2cWQoJkAAJkAAJkAAJOJYABaFjm4YVIwESIAESIAESIAF7CPw/xmZmbuPNJtUAAAAASUVORK5CYII=)\n",
    "\n",
    "So, when you perform backpropagation and compute `dy`, you are actually computing the gradient of most recent (last) node assigned with the label `y`. \n",
    "\n",
    "![image.png](data:image/png;base64,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)\n"
   ]
  },
  {
   "cell_type": "code",
   "execution_count": null,
   "metadata": {
    "id": "_fG6CMIVnTw-",
    "scrolled": false
   },
   "outputs": [],
   "source": [
    "w1 = torch.tensor(2., requires_grad=True)\n",
    "w2 = torch.tensor(2., requires_grad=True)\n",
    "x  = torch.tensor(4., requires_grad=True)\n",
    "y = w1*x\n",
    "y = w2*y\n",
    "y.retain_grad()\n",
    "out = y**2"
   ]
  },
  {
   "cell_type": "markdown",
   "metadata": {
    "id": "6q6S0qgTnTxA"
   },
   "source": [
    "The following code shows that the gradients  of `dy = 32` not `64`. "
   ]
  },
  {
   "cell_type": "code",
   "execution_count": null,
   "metadata": {
    "colab": {
     "base_uri": "https://localhost:8080/"
    },
    "executionInfo": {
     "elapsed": 26,
     "status": "ok",
     "timestamp": 1624373240669,
     "user": {
      "displayName": "Hung Khoon Tan",
      "photoUrl": "",
      "userId": "06538390365184440233"
     },
     "user_tz": -480
    },
    "id": "Qo9tYS2nnTxA",
    "outputId": "62f292c0-6c01-4958-bc3b-fb5694106e43"
   },
   "outputs": [
    {
     "name": "stdout",
     "output_type": "stream",
     "text": [
      "dy= tensor(32.)\n"
     ]
    }
   ],
   "source": [
    "out.backward()\n",
    "print('dy=', y.grad)"
   ]
  },
  {
   "cell_type": "markdown",
   "metadata": {
    "id": "ebs5FMwEnTxB"
   },
   "source": [
    "---\n",
    "### E. Inplace operation in PyTorch\n",
    "\n",
    "If you want to simply update the same node **without creating a new node**, then you should should **inplace** operation.\n",
    "\n",
    "To perform in-place operation, you can use the following two syntax:\n",
    "\n",
    "So, rather than performing \n",
    "\n",
    "`x = x - 10` \n",
    "\n",
    "which creates a new node in the computational graph, you can perform\n",
    "\n",
    "`x.mult_(10)`\n",
    "\n",
    "or\n",
    "\n",
    "`x -= 10`\n",
    "\n",
    "which will update the same node.\n",
    "\n",
    "But be careful, in-place oepration may affect the backpropagation if not appropriately used. Therefore, in-place operation is normally used to update model parameters which are leaf nodes in the computational graphs.\n",
    "\n"
   ]
  },
  {
   "cell_type": "markdown",
   "metadata": {
    "id": "lFIXq_8OnTxE"
   },
   "source": [
    "---\n",
    "### F. PyTorch .detach method\n",
    "\n",
    "Every single code that you write may affect the computational graph. To perform automatic differentiation, PyTorch keeps track of all operations involving tensors that needs gradient computation by constructing the computational graph.\n",
    "\n",
    "However, in some situations, you may do some simple debugging or perform some operations on top of the signals for other signals. In this case, you do not want these code to affect your computational graph. To do so, you may use:\n",
    "\n",
    "`Tensor.detach()` \n",
    "\n",
    "* Creates a new **view** of  of the tensor. \n",
    "* The tensor will be excluded from the tracking operations and this will not be recorded in the computational \n",
    "\n",
    "If you want to get a detached **copy** of the tensor, then you may use\n",
    "\n",
    "`Tensor.detach().clone()`\n",
    "\n",
    "Example:\n",
    "\n",
    "Consider the following code:"
   ]
  },
  {
   "cell_type": "code",
   "execution_count": null,
   "metadata": {
    "id": "C3WKQE3enTxF"
   },
   "outputs": [],
   "source": [
    "x = torch.ones(10, requires_grad=True)\n",
    "y=x**2\n",
    "z=x**3\n",
    "out=(y+z).sum()"
   ]
  },
  {
   "cell_type": "markdown",
   "metadata": {
    "id": "r06WAfQtnTxG"
   },
   "source": [
    "The generated computational graph looks as follows:"
   ]
  },
  {
   "cell_type": "code",
   "execution_count": null,
   "metadata": {
    "colab": {
     "base_uri": "https://localhost:8080/",
     "height": 455
    },
    "executionInfo": {
     "elapsed": 23,
     "status": "ok",
     "timestamp": 1624373240670,
     "user": {
      "displayName": "Hung Khoon Tan",
      "photoUrl": "",
      "userId": "06538390365184440233"
     },
     "user_tz": -480
    },
    "id": "fjUdraHSnTxH",
    "outputId": "138ed434-0940-4ec2-a522-0e06d2432287"
   },
   "outputs": [
    {
     "data": {
      "image/svg+xml": [
       "<?xml version=\"1.0\" encoding=\"UTF-8\" standalone=\"no\"?>\n",
       "<!DOCTYPE svg PUBLIC \"-//W3C//DTD SVG 1.1//EN\"\n",
       " \"http://www.w3.org/Graphics/SVG/1.1/DTD/svg11.dtd\">\n",
       "<!-- Generated by graphviz version 2.40.1 (20161225.0304)\n",
       " -->\n",
       "<!-- Title: %3 Pages: 1 -->\n",
       "<svg width=\"204pt\" height=\"326pt\"\n",
       " viewBox=\"0.00 0.00 204.00 326.00\" xmlns=\"http://www.w3.org/2000/svg\" xmlns:xlink=\"http://www.w3.org/1999/xlink\">\n",
       "<g id=\"graph0\" class=\"graph\" transform=\"scale(1 1) rotate(0) translate(4 322)\">\n",
       "<title>%3</title>\n",
       "<polygon fill=\"#ffffff\" stroke=\"transparent\" points=\"-4,4 -4,-322 200,-322 200,4 -4,4\"/>\n",
       "<!-- 140148254721440 -->\n",
       "<g id=\"node1\" class=\"node\">\n",
       "<title>140148254721440</title>\n",
       "<polygon fill=\"#caff70\" stroke=\"#000000\" points=\"124.5,-31 70.5,-31 70.5,0 124.5,0 124.5,-31\"/>\n",
       "<text text-anchor=\"middle\" x=\"97.5\" y=\"-7\" font-family=\"monospace\" font-size=\"10.00\" fill=\"#000000\"> ()</text>\n",
       "</g>\n",
       "<!-- 140148253764240 -->\n",
       "<g id=\"node2\" class=\"node\">\n",
       "<title>140148253764240</title>\n",
       "<polygon fill=\"#d3d3d3\" stroke=\"#000000\" points=\"142,-86 53,-86 53,-67 142,-67 142,-86\"/>\n",
       "<text text-anchor=\"middle\" x=\"97.5\" y=\"-74\" font-family=\"monospace\" font-size=\"10.00\" fill=\"#000000\">SumBackward0</text>\n",
       "</g>\n",
       "<!-- 140148253764240&#45;&gt;140148254721440 -->\n",
       "<g id=\"edge7\" class=\"edge\">\n",
       "<title>140148253764240&#45;&gt;140148254721440</title>\n",
       "<path fill=\"none\" stroke=\"#000000\" d=\"M97.5,-66.9688C97.5,-60.1289 97.5,-50.5621 97.5,-41.5298\"/>\n",
       "<polygon fill=\"#000000\" stroke=\"#000000\" points=\"101.0001,-41.3678 97.5,-31.3678 94.0001,-41.3678 101.0001,-41.3678\"/>\n",
       "</g>\n",
       "<!-- 140148253763792 -->\n",
       "<g id=\"node3\" class=\"node\">\n",
       "<title>140148253763792</title>\n",
       "<polygon fill=\"#d3d3d3\" stroke=\"#000000\" points=\"142,-141 53,-141 53,-122 142,-122 142,-141\"/>\n",
       "<text text-anchor=\"middle\" x=\"97.5\" y=\"-129\" font-family=\"monospace\" font-size=\"10.00\" fill=\"#000000\">AddBackward0</text>\n",
       "</g>\n",
       "<!-- 140148253763792&#45;&gt;140148253764240 -->\n",
       "<g id=\"edge1\" class=\"edge\">\n",
       "<title>140148253763792&#45;&gt;140148253764240</title>\n",
       "<path fill=\"none\" stroke=\"#000000\" d=\"M97.5,-121.9197C97.5,-114.9083 97.5,-105.1442 97.5,-96.4652\"/>\n",
       "<polygon fill=\"#000000\" stroke=\"#000000\" points=\"101.0001,-96.3408 97.5,-86.3408 94.0001,-96.3409 101.0001,-96.3408\"/>\n",
       "</g>\n",
       "<!-- 140148254797072 -->\n",
       "<g id=\"node4\" class=\"node\">\n",
       "<title>140148254797072</title>\n",
       "<polygon fill=\"#d3d3d3\" stroke=\"#000000\" points=\"89,-196 0,-196 0,-177 89,-177 89,-196\"/>\n",
       "<text text-anchor=\"middle\" x=\"44.5\" y=\"-184\" font-family=\"monospace\" font-size=\"10.00\" fill=\"#000000\">PowBackward0</text>\n",
       "</g>\n",
       "<!-- 140148254797072&#45;&gt;140148253763792 -->\n",
       "<g id=\"edge2\" class=\"edge\">\n",
       "<title>140148254797072&#45;&gt;140148253763792</title>\n",
       "<path fill=\"none\" stroke=\"#000000\" d=\"M53.7319,-176.9197C61.2391,-169.1293 72.021,-157.9405 81.0049,-148.6176\"/>\n",
       "<polygon fill=\"#000000\" stroke=\"#000000\" points=\"83.5983,-150.9703 88.017,-141.3408 78.5578,-146.113 83.5983,-150.9703\"/>\n",
       "</g>\n",
       "<!-- 140148254797008 -->\n",
       "<g id=\"node5\" class=\"node\">\n",
       "<title>140148254797008</title>\n",
       "<polygon fill=\"#d3d3d3\" stroke=\"#000000\" points=\"148,-251 47,-251 47,-232 148,-232 148,-251\"/>\n",
       "<text text-anchor=\"middle\" x=\"97.5\" y=\"-239\" font-family=\"monospace\" font-size=\"10.00\" fill=\"#000000\">AccumulateGrad</text>\n",
       "</g>\n",
       "<!-- 140148254797008&#45;&gt;140148254797072 -->\n",
       "<g id=\"edge3\" class=\"edge\">\n",
       "<title>140148254797008&#45;&gt;140148254797072</title>\n",
       "<path fill=\"none\" stroke=\"#000000\" d=\"M88.2681,-231.9197C80.7609,-224.1293 69.979,-212.9405 60.9951,-203.6176\"/>\n",
       "<polygon fill=\"#000000\" stroke=\"#000000\" points=\"63.4422,-201.113 53.983,-196.3408 58.4017,-205.9703 63.4422,-201.113\"/>\n",
       "</g>\n",
       "<!-- 140148254794128 -->\n",
       "<g id=\"node7\" class=\"node\">\n",
       "<title>140148254794128</title>\n",
       "<polygon fill=\"#d3d3d3\" stroke=\"#000000\" points=\"196,-196 107,-196 107,-177 196,-177 196,-196\"/>\n",
       "<text text-anchor=\"middle\" x=\"151.5\" y=\"-184\" font-family=\"monospace\" font-size=\"10.00\" fill=\"#000000\">PowBackward0</text>\n",
       "</g>\n",
       "<!-- 140148254797008&#45;&gt;140148254794128 -->\n",
       "<g id=\"edge6\" class=\"edge\">\n",
       "<title>140148254797008&#45;&gt;140148254794128</title>\n",
       "<path fill=\"none\" stroke=\"#000000\" d=\"M106.9061,-231.9197C114.5549,-224.1293 125.5403,-212.9405 134.6936,-203.6176\"/>\n",
       "<polygon fill=\"#000000\" stroke=\"#000000\" points=\"137.3296,-205.9286 141.8381,-196.3408 132.3347,-201.0244 137.3296,-205.9286\"/>\n",
       "</g>\n",
       "<!-- 140148253776944 -->\n",
       "<g id=\"node6\" class=\"node\">\n",
       "<title>140148253776944</title>\n",
       "<polygon fill=\"#add8e6\" stroke=\"#000000\" points=\"124.5,-318 70.5,-318 70.5,-287 124.5,-287 124.5,-318\"/>\n",
       "<text text-anchor=\"middle\" x=\"97.5\" y=\"-294\" font-family=\"monospace\" font-size=\"10.00\" fill=\"#000000\"> (10)</text>\n",
       "</g>\n",
       "<!-- 140148253776944&#45;&gt;140148254797008 -->\n",
       "<g id=\"edge4\" class=\"edge\">\n",
       "<title>140148253776944&#45;&gt;140148254797008</title>\n",
       "<path fill=\"none\" stroke=\"#000000\" d=\"M97.5,-286.791C97.5,-279.0249 97.5,-269.5706 97.5,-261.3129\"/>\n",
       "<polygon fill=\"#000000\" stroke=\"#000000\" points=\"101.0001,-261.0647 97.5,-251.0648 94.0001,-261.0648 101.0001,-261.0647\"/>\n",
       "</g>\n",
       "<!-- 140148254794128&#45;&gt;140148253763792 -->\n",
       "<g id=\"edge5\" class=\"edge\">\n",
       "<title>140148254794128&#45;&gt;140148253763792</title>\n",
       "<path fill=\"none\" stroke=\"#000000\" d=\"M142.0939,-176.9197C134.4451,-169.1293 123.4597,-157.9405 114.3064,-148.6176\"/>\n",
       "<polygon fill=\"#000000\" stroke=\"#000000\" points=\"116.6653,-146.0244 107.1619,-141.3408 111.6704,-150.9286 116.6653,-146.0244\"/>\n",
       "</g>\n",
       "</g>\n",
       "</svg>\n"
      ],
      "text/plain": [
       "<graphviz.dot.Digraph at 0x7f76cef16490>"
      ]
     },
     "execution_count": 45,
     "metadata": {
      "tags": []
     },
     "output_type": "execute_result"
    }
   ],
   "source": [
    "make_dot(out)\n",
    "# make_dot(out).render(\"output_graph\", format=\"png\") save the computational graph as \"output_graph.png\""
   ]
  },
  {
   "cell_type": "markdown",
   "metadata": {
    "id": "Wg5kEx01nTxJ"
   },
   "source": [
    "If we create a *detached* view of `x` when creating the tensor `z`, then `z` would not be used to construct the computational graph and subsequent operation on `z` will not be tracked. Let's do that in the following code. \n",
    "\n",
    "Compare the newly new computational graph compared to the one above. It will now omit `z`."
   ]
  },
  {
   "cell_type": "code",
   "execution_count": null,
   "metadata": {
    "colab": {
     "base_uri": "https://localhost:8080/",
     "height": 455
    },
    "executionInfo": {
     "elapsed": 22,
     "status": "ok",
     "timestamp": 1624373240671,
     "user": {
      "displayName": "Hung Khoon Tan",
      "photoUrl": "",
      "userId": "06538390365184440233"
     },
     "user_tz": -480
    },
    "id": "IzBxLQxAnTxK",
    "outputId": "e074cbfe-54d5-4079-a9eb-33d7e88dd9ca"
   },
   "outputs": [
    {
     "data": {
      "image/svg+xml": [
       "<?xml version=\"1.0\" encoding=\"UTF-8\" standalone=\"no\"?>\n",
       "<!DOCTYPE svg PUBLIC \"-//W3C//DTD SVG 1.1//EN\"\n",
       " \"http://www.w3.org/Graphics/SVG/1.1/DTD/svg11.dtd\">\n",
       "<!-- Generated by graphviz version 2.40.1 (20161225.0304)\n",
       " -->\n",
       "<!-- Title: %3 Pages: 1 -->\n",
       "<svg width=\"109pt\" height=\"326pt\"\n",
       " viewBox=\"0.00 0.00 109.00 326.00\" xmlns=\"http://www.w3.org/2000/svg\" xmlns:xlink=\"http://www.w3.org/1999/xlink\">\n",
       "<g id=\"graph0\" class=\"graph\" transform=\"scale(1 1) rotate(0) translate(4 322)\">\n",
       "<title>%3</title>\n",
       "<polygon fill=\"#ffffff\" stroke=\"transparent\" points=\"-4,4 -4,-322 105,-322 105,4 -4,4\"/>\n",
       "<!-- 140148253988176 -->\n",
       "<g id=\"node1\" class=\"node\">\n",
       "<title>140148253988176</title>\n",
       "<polygon fill=\"#caff70\" stroke=\"#000000\" points=\"77.5,-31 23.5,-31 23.5,0 77.5,0 77.5,-31\"/>\n",
       "<text text-anchor=\"middle\" x=\"50.5\" y=\"-7\" font-family=\"monospace\" font-size=\"10.00\" fill=\"#000000\"> ()</text>\n",
       "</g>\n",
       "<!-- 140148254795024 -->\n",
       "<g id=\"node2\" class=\"node\">\n",
       "<title>140148254795024</title>\n",
       "<polygon fill=\"#d3d3d3\" stroke=\"#000000\" points=\"95,-86 6,-86 6,-67 95,-67 95,-86\"/>\n",
       "<text text-anchor=\"middle\" x=\"50.5\" y=\"-74\" font-family=\"monospace\" font-size=\"10.00\" fill=\"#000000\">SumBackward0</text>\n",
       "</g>\n",
       "<!-- 140148254795024&#45;&gt;140148253988176 -->\n",
       "<g id=\"edge5\" class=\"edge\">\n",
       "<title>140148254795024&#45;&gt;140148253988176</title>\n",
       "<path fill=\"none\" stroke=\"#000000\" d=\"M50.5,-66.9688C50.5,-60.1289 50.5,-50.5621 50.5,-41.5298\"/>\n",
       "<polygon fill=\"#000000\" stroke=\"#000000\" points=\"54.0001,-41.3678 50.5,-31.3678 47.0001,-41.3678 54.0001,-41.3678\"/>\n",
       "</g>\n",
       "<!-- 140148254795536 -->\n",
       "<g id=\"node3\" class=\"node\">\n",
       "<title>140148254795536</title>\n",
       "<polygon fill=\"#d3d3d3\" stroke=\"#000000\" points=\"95,-141 6,-141 6,-122 95,-122 95,-141\"/>\n",
       "<text text-anchor=\"middle\" x=\"50.5\" y=\"-129\" font-family=\"monospace\" font-size=\"10.00\" fill=\"#000000\">AddBackward0</text>\n",
       "</g>\n",
       "<!-- 140148254795536&#45;&gt;140148254795024 -->\n",
       "<g id=\"edge1\" class=\"edge\">\n",
       "<title>140148254795536&#45;&gt;140148254795024</title>\n",
       "<path fill=\"none\" stroke=\"#000000\" d=\"M50.5,-121.9197C50.5,-114.9083 50.5,-105.1442 50.5,-96.4652\"/>\n",
       "<polygon fill=\"#000000\" stroke=\"#000000\" points=\"54.0001,-96.3408 50.5,-86.3408 47.0001,-96.3409 54.0001,-96.3408\"/>\n",
       "</g>\n",
       "<!-- 140148253836112 -->\n",
       "<g id=\"node4\" class=\"node\">\n",
       "<title>140148253836112</title>\n",
       "<polygon fill=\"#d3d3d3\" stroke=\"#000000\" points=\"95,-196 6,-196 6,-177 95,-177 95,-196\"/>\n",
       "<text text-anchor=\"middle\" x=\"50.5\" y=\"-184\" font-family=\"monospace\" font-size=\"10.00\" fill=\"#000000\">PowBackward0</text>\n",
       "</g>\n",
       "<!-- 140148253836112&#45;&gt;140148254795536 -->\n",
       "<g id=\"edge2\" class=\"edge\">\n",
       "<title>140148253836112&#45;&gt;140148254795536</title>\n",
       "<path fill=\"none\" stroke=\"#000000\" d=\"M50.5,-176.9197C50.5,-169.9083 50.5,-160.1442 50.5,-151.4652\"/>\n",
       "<polygon fill=\"#000000\" stroke=\"#000000\" points=\"54.0001,-151.3408 50.5,-141.3408 47.0001,-151.3409 54.0001,-151.3408\"/>\n",
       "</g>\n",
       "<!-- 140148253836176 -->\n",
       "<g id=\"node5\" class=\"node\">\n",
       "<title>140148253836176</title>\n",
       "<polygon fill=\"#d3d3d3\" stroke=\"#000000\" points=\"101,-251 0,-251 0,-232 101,-232 101,-251\"/>\n",
       "<text text-anchor=\"middle\" x=\"50.5\" y=\"-239\" font-family=\"monospace\" font-size=\"10.00\" fill=\"#000000\">AccumulateGrad</text>\n",
       "</g>\n",
       "<!-- 140148253836176&#45;&gt;140148253836112 -->\n",
       "<g id=\"edge3\" class=\"edge\">\n",
       "<title>140148253836176&#45;&gt;140148253836112</title>\n",
       "<path fill=\"none\" stroke=\"#000000\" d=\"M50.5,-231.9197C50.5,-224.9083 50.5,-215.1442 50.5,-206.4652\"/>\n",
       "<polygon fill=\"#000000\" stroke=\"#000000\" points=\"54.0001,-206.3408 50.5,-196.3408 47.0001,-206.3409 54.0001,-206.3408\"/>\n",
       "</g>\n",
       "<!-- 140148253823056 -->\n",
       "<g id=\"node6\" class=\"node\">\n",
       "<title>140148253823056</title>\n",
       "<polygon fill=\"#add8e6\" stroke=\"#000000\" points=\"77.5,-318 23.5,-318 23.5,-287 77.5,-287 77.5,-318\"/>\n",
       "<text text-anchor=\"middle\" x=\"50.5\" y=\"-294\" font-family=\"monospace\" font-size=\"10.00\" fill=\"#000000\"> (10)</text>\n",
       "</g>\n",
       "<!-- 140148253823056&#45;&gt;140148253836176 -->\n",
       "<g id=\"edge4\" class=\"edge\">\n",
       "<title>140148253823056&#45;&gt;140148253836176</title>\n",
       "<path fill=\"none\" stroke=\"#000000\" d=\"M50.5,-286.791C50.5,-279.0249 50.5,-269.5706 50.5,-261.3129\"/>\n",
       "<polygon fill=\"#000000\" stroke=\"#000000\" points=\"54.0001,-261.0647 50.5,-251.0648 47.0001,-261.0648 54.0001,-261.0647\"/>\n",
       "</g>\n",
       "</g>\n",
       "</svg>\n"
      ],
      "text/plain": [
       "<graphviz.dot.Digraph at 0x7f76cee2c290>"
      ]
     },
     "execution_count": 46,
     "metadata": {
      "tags": []
     },
     "output_type": "execute_result"
    }
   ],
   "source": [
    "x = torch.ones(10, requires_grad=True)\n",
    "y=x.detach()**2\n",
    "z=x**3\n",
    "out=(y+z).sum()\n",
    "\n",
    "make_dot(out)"
   ]
  },
  {
   "cell_type": "markdown",
   "metadata": {
    "id": "ZBM_6Eu4nTxM"
   },
   "source": [
    "---\n",
    "<font color=\"blue\">\n",
    "\n",
    "### Exercise \n",
    "    \n",
    "Implement the following operations:\n",
    "\n",
    "$$f(x,y,z) = (x^2 + y)z$$\n",
    "\n",
    "![image.png](data:image/png;base64,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)\n",
    "    \n",
    "Expected ans:\n",
    "```\n",
    "df/dx = -12.0\n",
    "df/dy = 3.0\n",
    "df/dz = 6.0\n",
    "df/dp = 3.0\n",
    "df/dq = 3.0\n",
    "```"
   ]
  },
  {
   "cell_type": "code",
   "execution_count": null,
   "metadata": {
    "colab": {
     "base_uri": "https://localhost:8080/"
    },
    "executionInfo": {
     "elapsed": 322,
     "status": "ok",
     "timestamp": 1624374758925,
     "user": {
      "displayName": "Hung Khoon Tan",
      "photoUrl": "",
      "userId": "06538390365184440233"
     },
     "user_tz": -480
    },
    "id": "6Gwj7fkEnTxM",
    "outputId": "322cbaa4-6eda-4b7a-957d-3294a08eb881"
   },
   "outputs": [],
   "source": [
    "### START CODE HERE ###\n",
    "\n",
    "# initialize x, y, z (3 lines)\n",
    "\n",
    "# forward propate (1-3 lines)\n",
    "\n",
    "# retain gradient for p and q (2 lines)\n",
    "\n",
    "# perform backpropagation (1line)\n",
    "\n",
    "### END CODE HERE ###\n",
    "\n",
    "print('df/dx =', x.grad.item())\n",
    "print('df/dy =', y.grad.item())\n",
    "print('df/dz =', z.grad.item())\n",
    "print('df/dp =', p.grad.item())\n",
    "print('df/dq =', q.grad.item())"
   ]
  },
  {
   "cell_type": "markdown",
   "metadata": {
    "id": "HGN-YB96R6V1"
   },
   "source": [
    "<center> --- End of Lab02B --- </center>"
   ]
  }
 ],
 "metadata": {
  "colab": {
   "collapsed_sections": [],
   "name": "Lab02B - Dynamic Computational Graph (ans).ipynb",
   "provenance": [
    {
     "file_id": "1tz7Wub6cDoveUAabOV3WB5k-VDl0YmCz",
     "timestamp": 1624330046466
    }
   ]
  },
  "kernelspec": {
   "display_name": "Python 3 (ipykernel)",
   "language": "python",
   "name": "python3"
  },
  "language_info": {
   "codemirror_mode": {
    "name": "ipython",
    "version": 3
   },
   "file_extension": ".py",
   "mimetype": "text/x-python",
   "name": "python",
   "nbconvert_exporter": "python",
   "pygments_lexer": "ipython3",
   "version": "3.9.7"
  }
 },
 "nbformat": 4,
 "nbformat_minor": 1
}
